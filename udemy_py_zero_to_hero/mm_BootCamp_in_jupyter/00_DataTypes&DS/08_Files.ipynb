{
 "cells": [
  {
   "cell_type": "markdown",
   "id": "d944276d",
   "metadata": {},
   "source": [
    "### You can open any files if we have right directory\n",
    "### open('filename.txt') is what used this file either need to be in jupiter notebool loc,  or need to provide right path "
   ]
  },
  {
   "cell_type": "code",
   "execution_count": 1,
   "id": "e3f5fc56",
   "metadata": {},
   "outputs": [
    {
     "ename": "NameError",
     "evalue": "name 'pwd' is not defined",
     "output_type": "error",
     "traceback": [
      "\u001b[0;31m---------------------------------------------------------------------------\u001b[0m",
      "\u001b[0;31mNameError\u001b[0m                                 Traceback (most recent call last)",
      "\u001b[0;32m<ipython-input-1-2a4c8b6449bd>\u001b[0m in \u001b[0;36m<module>\u001b[0;34m\u001b[0m\n\u001b[1;32m      1\u001b[0m \u001b[0;31m## To get current working dir of Jupyter\u001b[0m\u001b[0;34m\u001b[0m\u001b[0;34m\u001b[0m\u001b[0;34m\u001b[0m\u001b[0m\n\u001b[0;32m----> 2\u001b[0;31m \u001b[0mpwd\u001b[0m\u001b[0;34m\u001b[0m\u001b[0;34m\u001b[0m\u001b[0m\n\u001b[0m",
      "\u001b[0;31mNameError\u001b[0m: name 'pwd' is not defined"
     ]
    }
   ],
   "source": [
    "## To get current working dir of Jupyter\n",
    "pwd"
   ]
  },
  {
   "cell_type": "code",
   "execution_count": 2,
   "id": "c266fe13",
   "metadata": {},
   "outputs": [
    {
     "data": {
      "text/plain": [
       "'/Users/mahi.kalakota/learn/Py/mm_BootCamp/00_DataTypes&DS'"
      ]
     },
     "execution_count": 2,
     "metadata": {},
     "output_type": "execute_result"
    }
   ],
   "source": [
    "pwd"
   ]
  },
  {
   "cell_type": "code",
   "execution_count": 3,
   "id": "c1dec025",
   "metadata": {},
   "outputs": [
    {
     "name": "stdout",
     "output_type": "stream",
     "text": [
      "Overwriting test.txt\n"
     ]
    }
   ],
   "source": [
    "%%writefile test.txt\n",
    "Hello how r u ?\n",
    "This is my first line\n",
    "This is my second line"
   ]
  },
  {
   "cell_type": "code",
   "execution_count": 4,
   "id": "d3d0b096",
   "metadata": {},
   "outputs": [],
   "source": [
    "contents = open('test.txt')"
   ]
  },
  {
   "cell_type": "code",
   "execution_count": 7,
   "id": "e9c840b6",
   "metadata": {},
   "outputs": [
    {
     "name": "stdout",
     "output_type": "stream",
     "text": [
      "<_io.TextIOWrapper name='test.txt' mode='r' encoding='UTF-8'>\n"
     ]
    }
   ],
   "source": [
    "print(contents)"
   ]
  },
  {
   "cell_type": "code",
   "execution_count": 14,
   "id": "9f7af0cc",
   "metadata": {},
   "outputs": [
    {
     "data": {
      "text/plain": [
       "'Hello how r u ?\\nThis is my first line\\nThis is my second line\\n'"
      ]
     },
     "execution_count": 14,
     "metadata": {},
     "output_type": "execute_result"
    }
   ],
   "source": [
    "contents.read()"
   ]
  },
  {
   "cell_type": "code",
   "execution_count": 9,
   "id": "cda01fa7",
   "metadata": {},
   "outputs": [
    {
     "data": {
      "text/plain": [
       "61"
      ]
     },
     "execution_count": 9,
     "metadata": {},
     "output_type": "execute_result"
    }
   ],
   "source": [
    "contents.tell()"
   ]
  },
  {
   "cell_type": "code",
   "execution_count": 13,
   "id": "599db4e3",
   "metadata": {},
   "outputs": [
    {
     "data": {
      "text/plain": [
       "0"
      ]
     },
     "execution_count": 13,
     "metadata": {},
     "output_type": "execute_result"
    }
   ],
   "source": [
    "contents.seek(0)"
   ]
  },
  {
   "cell_type": "code",
   "execution_count": 16,
   "id": "2e81808c",
   "metadata": {},
   "outputs": [
    {
     "data": {
      "text/plain": [
       "False"
      ]
     },
     "execution_count": 16,
     "metadata": {},
     "output_type": "execute_result"
    }
   ],
   "source": [
    "contents.closed"
   ]
  },
  {
   "cell_type": "code",
   "execution_count": 18,
   "id": "79002da1",
   "metadata": {},
   "outputs": [
    {
     "name": "stdout",
     "output_type": "stream",
     "text": [
      "Hello how r u ?\n",
      "This is my first line\n",
      "This is my second line\n",
      "FORTH LINE\n"
     ]
    }
   ],
   "source": [
    "with open('test.txt') as f:\n",
    "    print(f.read())"
   ]
  },
  {
   "cell_type": "code",
   "execution_count": 17,
   "id": "416155f0",
   "metadata": {},
   "outputs": [],
   "source": [
    "with open('test.txt','a') as f:\n",
    "    f.write('FORTH LINE')"
   ]
  },
  {
   "cell_type": "code",
   "execution_count": 19,
   "id": "c332873e",
   "metadata": {},
   "outputs": [],
   "source": [
    "with open('tgjafiaj.txt','w') as f:\n",
    "    f.write('this will be a nice one')"
   ]
  },
  {
   "cell_type": "code",
   "execution_count": 20,
   "id": "c2c1f151",
   "metadata": {},
   "outputs": [],
   "source": [
    "con = open('tgjafiaj.txt')"
   ]
  },
  {
   "cell_type": "code",
   "execution_count": 24,
   "id": "790c650a",
   "metadata": {},
   "outputs": [
    {
     "data": {
      "text/plain": [
       "'we are overwriting file'"
      ]
     },
     "execution_count": 24,
     "metadata": {},
     "output_type": "execute_result"
    }
   ],
   "source": [
    "con.seek(0)\n",
    "con.read()"
   ]
  },
  {
   "cell_type": "code",
   "execution_count": 25,
   "id": "b8e36a19",
   "metadata": {},
   "outputs": [],
   "source": [
    "with open('tgjafiaj.txt','w') as f:\n",
    "    f.write('we are overwriting file')"
   ]
  },
  {
   "cell_type": "code",
   "execution_count": 38,
   "id": "b93bbe2a",
   "metadata": {},
   "outputs": [],
   "source": [
    "with open('tgjafiaj.txt','w') as f:\n",
    "    f.write('2ndoverwriting file')"
   ]
  },
  {
   "cell_type": "code",
   "execution_count": 42,
   "id": "dc0bd1e7",
   "metadata": {},
   "outputs": [],
   "source": [
    "with open('tgjafiaj.txt','a') as f:\n",
    "    f.write('adding 2nd line')"
   ]
  },
  {
   "cell_type": "code",
   "execution_count": 45,
   "id": "4f85bc68",
   "metadata": {},
   "outputs": [],
   "source": [
    "with open('pratice.txt','w') as f:\n",
    "    f.write('''\n",
    "Basic Practice \n",
    "\n",
    "http://codingbat.com/python\n",
    "\n",
    "More Mathematical (and Harder) Practice:\n",
    "\n",
    "https://projecteuler.net/archives\n",
    "\n",
    "List of Practice Problems:\n",
    "\n",
    "http://www.codeabbey.com/index/task_list''')"
   ]
  },
  {
   "cell_type": "code",
   "execution_count": 49,
   "id": "00b1a740",
   "metadata": {},
   "outputs": [],
   "source": [
    "x = open('pratice.txt')"
   ]
  },
  {
   "cell_type": "code",
   "execution_count": 47,
   "id": "0b7c3c67",
   "metadata": {},
   "outputs": [
    {
     "data": {
      "text/plain": [
       "'\\nBasic Practice \\n\\nhttp://codingbat.com/python\\n\\nMore Mathematical (and Harder) Practice:\\n\\nhttps://projecteuler.net/archives\\n\\nList of Practice Problems:\\n\\nhttp://www.codeabbey.com/index/task_list'"
      ]
     },
     "execution_count": 47,
     "metadata": {},
     "output_type": "execute_result"
    }
   ],
   "source": [
    "x.read()"
   ]
  },
  {
   "cell_type": "code",
   "execution_count": 50,
   "id": "d9d7fb98",
   "metadata": {},
   "outputs": [
    {
     "name": "stdout",
     "output_type": "stream",
     "text": [
      "\n",
      "Basic Practice \n",
      "\n",
      "http://codingbat.com/python\n",
      "\n",
      "More Mathematical (and Harder) Practice:\n",
      "\n",
      "https://projecteuler.net/archives\n",
      "\n",
      "List of Practice Problems:\n",
      "\n",
      "http://www.codeabbey.com/index/task_list\n"
     ]
    }
   ],
   "source": [
    "print(x.read())"
   ]
  },
  {
   "cell_type": "code",
   "execution_count": null,
   "id": "bff4dabe",
   "metadata": {},
   "outputs": [],
   "source": []
  }
 ],
 "metadata": {
  "kernelspec": {
   "display_name": "Python 3",
   "language": "python",
   "name": "python3"
  },
  "language_info": {
   "codemirror_mode": {
    "name": "ipython",
    "version": 3
   },
   "file_extension": ".py",
   "mimetype": "text/x-python",
   "name": "python",
   "nbconvert_exporter": "python",
   "pygments_lexer": "ipython3",
   "version": "3.8.8"
  }
 },
 "nbformat": 4,
 "nbformat_minor": 5
}
