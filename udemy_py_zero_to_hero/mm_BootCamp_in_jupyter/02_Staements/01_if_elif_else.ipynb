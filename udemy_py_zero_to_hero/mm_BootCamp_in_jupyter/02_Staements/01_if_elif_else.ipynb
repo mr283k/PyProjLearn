{
 "cells": [
  {
   "cell_type": "code",
   "execution_count": 1,
   "id": "98c474e3",
   "metadata": {},
   "outputs": [
    {
     "name": "stdout",
     "output_type": "stream",
     "text": [
      "it is True\n"
     ]
    }
   ],
   "source": [
    "if True:\n",
    "    print('it is True')"
   ]
  },
  {
   "cell_type": "code",
   "execution_count": 2,
   "id": "9cd40ba7",
   "metadata": {},
   "outputs": [
    {
     "name": "stdout",
     "output_type": "stream",
     "text": [
      "false\n"
     ]
    }
   ],
   "source": [
    "if 2<1:\n",
    "    print('is it true')\n",
    "else:\n",
    "    print('false')"
   ]
  },
  {
   "cell_type": "code",
   "execution_count": 3,
   "id": "6db51aae",
   "metadata": {},
   "outputs": [
    {
     "name": "stdout",
     "output_type": "stream",
     "text": [
      "Feed me\n"
     ]
    }
   ],
   "source": [
    "hungry = True\n",
    "if hungry:\n",
    "    print('Feed me')"
   ]
  },
  {
   "cell_type": "code",
   "execution_count": 4,
   "id": "0930f9aa",
   "metadata": {},
   "outputs": [
    {
     "name": "stdout",
     "output_type": "stream",
     "text": [
      "cart has fruit\n"
     ]
    }
   ],
   "source": [
    "groc = 'fruit'\n",
    "\n",
    "if groc == 'meat':\n",
    "    print('meat')\n",
    "elif groc == 'condiment':\n",
    "    print('')\n",
    "    \n",
    "else:\n",
    "    print('cart has fruit')\n",
    "    "
   ]
  },
  {
   "cell_type": "code",
   "execution_count": null,
   "id": "59f9f4a4",
   "metadata": {},
   "outputs": [],
   "source": []
  }
 ],
 "metadata": {
  "kernelspec": {
   "display_name": "Python 3",
   "language": "python",
   "name": "python3"
  },
  "language_info": {
   "codemirror_mode": {
    "name": "ipython",
    "version": 3
   },
   "file_extension": ".py",
   "mimetype": "text/x-python",
   "name": "python",
   "nbconvert_exporter": "python",
   "pygments_lexer": "ipython3",
   "version": "3.8.8"
  }
 },
 "nbformat": 4,
 "nbformat_minor": 5
}
