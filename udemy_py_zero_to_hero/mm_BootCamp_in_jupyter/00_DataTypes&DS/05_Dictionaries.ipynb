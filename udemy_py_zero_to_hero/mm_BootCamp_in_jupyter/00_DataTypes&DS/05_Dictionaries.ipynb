{
 "cells": [
  {
   "cell_type": "markdown",
   "id": "1743ff61",
   "metadata": {},
   "source": [
    "### Dictionaries are key value pairs\n",
    "### key values are always strings"
   ]
  },
  {
   "cell_type": "code",
   "execution_count": 1,
   "id": "bba80eeb",
   "metadata": {},
   "outputs": [],
   "source": [
    "d = {'apple':5.33, 'orange':'yellow', 'produce':['banana','chili','fish'], 'isle':{'condiments':['turmeric','salt','sugar']}}"
   ]
  },
  {
   "cell_type": "code",
   "execution_count": 2,
   "id": "cdb19009",
   "metadata": {},
   "outputs": [
    {
     "data": {
      "text/plain": [
       "{'apple': 5.33,\n",
       " 'orange': 'yellow',\n",
       " 'produce': ['banana', 'chili', 'fish'],\n",
       " 'isle': {'condiments': ['turmeric', 'salt', 'sugar']}}"
      ]
     },
     "execution_count": 2,
     "metadata": {},
     "output_type": "execute_result"
    }
   ],
   "source": [
    "d"
   ]
  },
  {
   "cell_type": "code",
   "execution_count": 3,
   "id": "3a51df27",
   "metadata": {},
   "outputs": [
    {
     "data": {
      "text/plain": [
       "5.33"
      ]
     },
     "execution_count": 3,
     "metadata": {},
     "output_type": "execute_result"
    }
   ],
   "source": [
    "d['apple']"
   ]
  },
  {
   "cell_type": "code",
   "execution_count": 4,
   "id": "04cd6a31",
   "metadata": {},
   "outputs": [
    {
     "data": {
      "text/plain": [
       "'yellow'"
      ]
     },
     "execution_count": 4,
     "metadata": {},
     "output_type": "execute_result"
    }
   ],
   "source": [
    "d['orange']"
   ]
  },
  {
   "cell_type": "code",
   "execution_count": 5,
   "id": "b73996c5",
   "metadata": {},
   "outputs": [
    {
     "data": {
      "text/plain": [
       "'fish'"
      ]
     },
     "execution_count": 5,
     "metadata": {},
     "output_type": "execute_result"
    }
   ],
   "source": [
    "d['produce'][2]"
   ]
  },
  {
   "cell_type": "code",
   "execution_count": 6,
   "id": "4326fd4f",
   "metadata": {},
   "outputs": [
    {
     "data": {
      "text/plain": [
       "'sugar'"
      ]
     },
     "execution_count": 6,
     "metadata": {},
     "output_type": "execute_result"
    }
   ],
   "source": [
    "d['isle']['condiments'][2]"
   ]
  },
  {
   "cell_type": "code",
   "execution_count": 7,
   "id": "02bf8428",
   "metadata": {},
   "outputs": [],
   "source": [
    "# adding a key value\n",
    "d['meat'] = 'chicken'"
   ]
  },
  {
   "cell_type": "code",
   "execution_count": 8,
   "id": "9059cd62",
   "metadata": {},
   "outputs": [
    {
     "data": {
      "text/plain": [
       "{'apple': 5.33,\n",
       " 'orange': 'yellow',\n",
       " 'produce': ['banana', 'chili', 'fish'],\n",
       " 'isle': {'condiments': ['turmeric', 'salt', 'sugar']},\n",
       " 'meat': 'chicken'}"
      ]
     },
     "execution_count": 8,
     "metadata": {},
     "output_type": "execute_result"
    }
   ],
   "source": [
    "d"
   ]
  },
  {
   "cell_type": "code",
   "execution_count": 9,
   "id": "4b0d7c6e",
   "metadata": {},
   "outputs": [
    {
     "data": {
      "text/plain": [
       "dict_keys(['apple', 'orange', 'produce', 'isle', 'meat'])"
      ]
     },
     "execution_count": 9,
     "metadata": {},
     "output_type": "execute_result"
    }
   ],
   "source": [
    "d.keys()"
   ]
  },
  {
   "cell_type": "code",
   "execution_count": 10,
   "id": "dad1af16",
   "metadata": {},
   "outputs": [
    {
     "data": {
      "text/plain": [
       "dict_values([5.33, 'yellow', ['banana', 'chili', 'fish'], {'condiments': ['turmeric', 'salt', 'sugar']}, 'chicken'])"
      ]
     },
     "execution_count": 10,
     "metadata": {},
     "output_type": "execute_result"
    }
   ],
   "source": [
    "d.values()"
   ]
  },
  {
   "cell_type": "code",
   "execution_count": 11,
   "id": "a56627c8",
   "metadata": {},
   "outputs": [
    {
     "data": {
      "text/plain": [
       "dict_items([('apple', 5.33), ('orange', 'yellow'), ('produce', ['banana', 'chili', 'fish']), ('isle', {'condiments': ['turmeric', 'salt', 'sugar']}), ('meat', 'chicken')])"
      ]
     },
     "execution_count": 11,
     "metadata": {},
     "output_type": "execute_result"
    }
   ],
   "source": [
    "d.items()"
   ]
  },
  {
   "cell_type": "code",
   "execution_count": 22,
   "id": "9141bd33",
   "metadata": {},
   "outputs": [],
   "source": [
    "d['num'] = 123"
   ]
  },
  {
   "cell_type": "code",
   "execution_count": 23,
   "id": "dc969d40",
   "metadata": {},
   "outputs": [
    {
     "data": {
      "text/plain": [
       "{'apple': 5.33,\n",
       " 'orange': 'yellow',\n",
       " 'produce': ['banana', 'chili', 'fish'],\n",
       " 'isle': {'condiments': ['turmeric', 'salt', 'sugar']},\n",
       " 'meat': 'chicken',\n",
       " '123': 'order',\n",
       " 'num': 123}"
      ]
     },
     "execution_count": 23,
     "metadata": {},
     "output_type": "execute_result"
    }
   ],
   "source": [
    "d"
   ]
  },
  {
   "cell_type": "code",
   "execution_count": 24,
   "id": "628e5a1f",
   "metadata": {},
   "outputs": [],
   "source": [
    "d['num'] = d['num'] - 123"
   ]
  },
  {
   "cell_type": "code",
   "execution_count": 25,
   "id": "3f7acd24",
   "metadata": {},
   "outputs": [
    {
     "data": {
      "text/plain": [
       "0"
      ]
     },
     "execution_count": 25,
     "metadata": {},
     "output_type": "execute_result"
    }
   ],
   "source": [
    "d['num']"
   ]
  },
  {
   "cell_type": "code",
   "execution_count": null,
   "id": "77f035b7",
   "metadata": {},
   "outputs": [],
   "source": []
  }
 ],
 "metadata": {
  "kernelspec": {
   "display_name": "Python 3",
   "language": "python",
   "name": "python3"
  },
  "language_info": {
   "codemirror_mode": {
    "name": "ipython",
    "version": 3
   },
   "file_extension": ".py",
   "mimetype": "text/x-python",
   "name": "python",
   "nbconvert_exporter": "python",
   "pygments_lexer": "ipython3",
   "version": "3.8.8"
  }
 },
 "nbformat": 4,
 "nbformat_minor": 5
}
