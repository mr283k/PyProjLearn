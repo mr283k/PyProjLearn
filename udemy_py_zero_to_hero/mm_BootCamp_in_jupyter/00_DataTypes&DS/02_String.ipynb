{
 "cells": [
  {
   "cell_type": "markdown",
   "id": "f4205930",
   "metadata": {},
   "source": [
    "## \n",
    "# slicing index[start,stop,step]\n",
    "# indices positioning  0, 1, 2, 3\n",
    "# indices positioning  0, -3, -2, -1\n",
    "\n",
    "# Float formatting follows \"result: {value:{width}.{precision}}\"\n",
    "\n",
    "# 'Insert another string with curly brackets: {}'.format('The inserted string'\n",
    "\n",
    "# object.method(parameters)\n",
    "\n"
   ]
  },
  {
   "cell_type": "code",
   "execution_count": 24,
   "id": "b5f6f1c4",
   "metadata": {},
   "outputs": [
    {
     "data": {
      "text/plain": [
       "'h'"
      ]
     },
     "execution_count": 24,
     "metadata": {},
     "output_type": "execute_result"
    }
   ],
   "source": [
    "a = 'helloWorld'\n",
    "a[0]"
   ]
  },
  {
   "cell_type": "code",
   "execution_count": 26,
   "id": "3007cccc",
   "metadata": {},
   "outputs": [
    {
     "data": {
      "text/plain": [
       "''"
      ]
     },
     "execution_count": 26,
     "metadata": {},
     "output_type": "execute_result"
    }
   ],
   "source": [
    "#slicing index[start,stop,step]\n",
    "# indices positioning  0, 1, 2, 3\n",
    "# indices positioning  0, -3, -2, -1\n",
    "a[1:3] \n",
    "a[len(a)-4:len(a)]\n",
    "a[-1:-4]"
   ]
  },
  {
   "cell_type": "code",
   "execution_count": 10,
   "id": "d597af3d",
   "metadata": {},
   "outputs": [
    {
     "data": {
      "text/plain": [
       "['p']"
      ]
     },
     "execution_count": 10,
     "metadata": {},
     "output_type": "execute_result"
    }
   ],
   "source": [
    "b = ['o','p','q','r','s','t','u']\n",
    "b[1:2]"
   ]
  },
  {
   "cell_type": "code",
   "execution_count": 23,
   "id": "1da790f8",
   "metadata": {},
   "outputs": [
    {
     "data": {
      "text/plain": [
       "['u', 's']"
      ]
     },
     "execution_count": 23,
     "metadata": {},
     "output_type": "execute_result"
    }
   ],
   "source": [
    "# you stop is up to the given index position but not including it\n",
    "# step will jump the numbers based on given position\n",
    "b[1:6:2]\n",
    "b[0:len(b):len(b)-1]\n",
    "b[-1:-4:-2]"
   ]
  },
  {
   "cell_type": "code",
   "execution_count": 18,
   "id": "0f2b10bd",
   "metadata": {},
   "outputs": [
    {
     "data": {
      "text/plain": [
       "['u', 't', 's', 'r', 'q', 'p', 'o']"
      ]
     },
     "execution_count": 18,
     "metadata": {},
     "output_type": "execute_result"
    }
   ],
   "source": [
    "# slicing in reverse\n",
    "b[::-1]"
   ]
  },
  {
   "cell_type": "code",
   "execution_count": 22,
   "id": "48e62b8c",
   "metadata": {},
   "outputs": [
    {
     "data": {
      "text/plain": [
       "['u', 's', 'q']"
      ]
     },
     "execution_count": 22,
     "metadata": {},
     "output_type": "execute_result"
    }
   ],
   "source": [
    "# step positive will go in the right and -ve will go in the left side\n",
    "b[-1:-6:-2]\n",
    "#b[-1:-7:-2] \n",
    "# b[-1:0:-2]"
   ]
  },
  {
   "cell_type": "code",
   "execution_count": 26,
   "id": "24f1fbfc",
   "metadata": {},
   "outputs": [
    {
     "data": {
      "text/plain": [
       "'ink'"
      ]
     },
     "execution_count": 26,
     "metadata": {},
     "output_type": "execute_result"
    }
   ],
   "source": [
    "'tinker'[1:4]"
   ]
  },
  {
   "cell_type": "code",
   "execution_count": 27,
   "id": "0c6c4699",
   "metadata": {},
   "outputs": [
    {
     "name": "stdout",
     "output_type": "stream",
     "text": [
      "hihow r u?\n"
     ]
    }
   ],
   "source": [
    "print('hi' + 'how r u?')"
   ]
  },
  {
   "cell_type": "code",
   "execution_count": 28,
   "id": "3e0cb0d3",
   "metadata": {},
   "outputs": [
    {
     "name": "stdout",
     "output_type": "stream",
     "text": [
      "23\n"
     ]
    }
   ],
   "source": [
    "print('2' + '3')"
   ]
  },
  {
   "cell_type": "code",
   "execution_count": 35,
   "id": "4fbeaf70",
   "metadata": {},
   "outputs": [],
   "source": [
    "x = 'Hello World'"
   ]
  },
  {
   "cell_type": "code",
   "execution_count": 31,
   "id": "f9d841e1",
   "metadata": {},
   "outputs": [
    {
     "data": {
      "text/plain": [
       "'HELLOWORLD'"
      ]
     },
     "execution_count": 31,
     "metadata": {},
     "output_type": "execute_result"
    }
   ],
   "source": [
    "x.upper()"
   ]
  },
  {
   "cell_type": "code",
   "execution_count": 32,
   "id": "b245f7fc",
   "metadata": {},
   "outputs": [
    {
     "data": {
      "text/plain": [
       "False"
      ]
     },
     "execution_count": 32,
     "metadata": {},
     "output_type": "execute_result"
    }
   ],
   "source": [
    "x.isdigit()"
   ]
  },
  {
   "cell_type": "code",
   "execution_count": 36,
   "id": "d66bc3d8",
   "metadata": {},
   "outputs": [
    {
     "data": {
      "text/plain": [
       "['Hello', 'World']"
      ]
     },
     "execution_count": 36,
     "metadata": {},
     "output_type": "execute_result"
    }
   ],
   "source": [
    "x.split()"
   ]
  },
  {
   "cell_type": "code",
   "execution_count": 37,
   "id": "dda2a1d4",
   "metadata": {},
   "outputs": [],
   "source": [
    "# Print formatting\n",
    "# methods for doing string formatting\n",
    "# .format & f-strings"
   ]
  },
  {
   "cell_type": "code",
   "execution_count": 29,
   "id": "3910182e",
   "metadata": {},
   "outputs": [
    {
     "name": "stdout",
     "output_type": "stream",
     "text": [
      "i want to learn \n"
     ]
    }
   ],
   "source": [
    "# print('I like to {} {} {} '.format('learn', 'py', 'much') \n",
    "print('i want to {} '.format('learn'))"
   ]
  },
  {
   "cell_type": "code",
   "execution_count": 30,
   "id": "3c96b909",
   "metadata": {},
   "outputs": [
    {
     "name": "stdout",
     "output_type": "stream",
     "text": [
      "I like py much learn \n"
     ]
    }
   ],
   "source": [
    "print('I like {1} {2} {0} '.format('learn', 'py', 'much')) "
   ]
  },
  {
   "cell_type": "code",
   "execution_count": 31,
   "id": "f23dc36a",
   "metadata": {},
   "outputs": [
    {
     "data": {
      "text/plain": [
       "25612.34234234234"
      ]
     },
     "execution_count": 31,
     "metadata": {},
     "output_type": "execute_result"
    }
   ],
   "source": [
    "# float formatting follows \"{value:width.precision f}\"\n",
    "result = 19900790/777\n",
    "result"
   ]
  },
  {
   "cell_type": "code",
   "execution_count": 32,
   "id": "c86df663",
   "metadata": {},
   "outputs": [
    {
     "name": "stdout",
     "output_type": "stream",
     "text": [
      "the result is floating num 25612.34234234234 \n"
     ]
    }
   ],
   "source": [
    "# print(\"The result was {r} \".format(r=result))\n",
    "print(\"the result is floating num {r} \".format(r=result))"
   ]
  },
  {
   "cell_type": "code",
   "execution_count": 38,
   "id": "357f3fd3",
   "metadata": {},
   "outputs": [
    {
     "name": "stdout",
     "output_type": "stream",
     "text": [
      "the result is   25612.34 \n"
     ]
    }
   ],
   "source": [
    "# here if we obser width is just creats white space if output length is less than precission\n",
    "# print(\"The result was {r:50.3f} \".format(r=result))\n",
    "print(\"the result is {r:10.2f} \".format(r=result))"
   ]
  },
  {
   "cell_type": "code",
   "execution_count": 42,
   "id": "5de3fa25",
   "metadata": {},
   "outputs": [],
   "source": [
    "# new formatting f string in python got popularity\n",
    "name = \"Jose\""
   ]
  },
  {
   "cell_type": "code",
   "execution_count": 43,
   "id": "fe2102cd",
   "metadata": {},
   "outputs": [
    {
     "name": "stdout",
     "output_type": "stream",
     "text": [
      "whoe's name is Jose\n"
     ]
    }
   ],
   "source": [
    "# print(f\"my name is {name}\" )\n",
    "print(f\"whoe's name is {name}\")"
   ]
  },
  {
   "cell_type": "code",
   "execution_count": 61,
   "id": "004af642",
   "metadata": {},
   "outputs": [
    {
     "name": "stdout",
     "output_type": "stream",
     "text": [
      "my name is JOSE\n"
     ]
    }
   ],
   "source": [
    "print(f\"my name is {name.upper()}\" )"
   ]
  },
  {
   "cell_type": "code",
   "execution_count": 65,
   "id": "1a56df32",
   "metadata": {},
   "outputs": [],
   "source": [
    "a = 5\n",
    "b = 4"
   ]
  },
  {
   "cell_type": "code",
   "execution_count": 70,
   "id": "edf2d08a",
   "metadata": {},
   "outputs": [
    {
     "name": "stdout",
     "output_type": "stream",
     "text": [
      "lets do multi 1.25\n"
     ]
    }
   ],
   "source": [
    "# print(f'lets do some multiplication {a*b}')\n",
    "# print(f'do so square root {a ^ b}')\n",
    "print('lets do multi {0}'.format(a/b))"
   ]
  },
  {
   "cell_type": "code",
   "execution_count": 46,
   "id": "1364e2b9",
   "metadata": {},
   "outputs": [
    {
     "name": "stdout",
     "output_type": "stream",
     "text": [
      "i will be injecting something apples.\n"
     ]
    }
   ],
   "source": [
    "print('i will be injecting something %s.'%'apples')"
   ]
  },
  {
   "cell_type": "code",
   "execution_count": 50,
   "id": "d0747c4a",
   "metadata": {},
   "outputs": [
    {
     "name": "stdout",
     "output_type": "stream",
     "text": [
      "i will be injecting something apples and banana.\n"
     ]
    }
   ],
   "source": [
    "print('i will be injecting something %s and %s.'%('apples','banana'))"
   ]
  },
  {
   "cell_type": "code",
   "execution_count": 58,
   "id": "d990e845",
   "metadata": {},
   "outputs": [
    {
     "ename": "SyntaxError",
     "evalue": "invalid syntax (<ipython-input-58-ab00b4268ef3>, line 6)",
     "output_type": "error",
     "traceback": [
      "\u001b[0;36m  File \u001b[0;32m\"<ipython-input-58-ab00b4268ef3>\"\u001b[0;36m, line \u001b[0;32m6\u001b[0m\n\u001b[0;31m    print(f'do some cal {a}*{b} '.(a=2,b=3))\u001b[0m\n\u001b[0m                                  ^\u001b[0m\n\u001b[0;31mSyntaxError\u001b[0m\u001b[0;31m:\u001b[0m invalid syntax\n"
     ]
    }
   ],
   "source": [
    "# print('i will be injecting something %r.'%'apples')\n",
    "\n",
    "# print('do some calculation {%r*%r}'%(2,4))\n",
    "# print('do some cal {a*b}'.format(a=2,b=3))\n",
    "\n",
    "print(f'do some cal {a}*{b} '.(a=2,b=3))"
   ]
  },
  {
   "cell_type": "code",
   "execution_count": 67,
   "id": "3454e705",
   "metadata": {},
   "outputs": [],
   "source": [
    "x,y = 10, 20"
   ]
  },
  {
   "cell_type": "code",
   "execution_count": 75,
   "id": "b3e3b126",
   "metadata": {},
   "outputs": [
    {
     "name": "stdout",
     "output_type": "stream",
     "text": [
      "do the multiplication 10*20 is 200\n"
     ]
    }
   ],
   "source": [
    "print('do the multiplication %s*%s is %s'%(x,y,x*y))"
   ]
  },
  {
   "cell_type": "code",
   "execution_count": 76,
   "id": "98f02f7b",
   "metadata": {},
   "outputs": [
    {
     "name": "stdout",
     "output_type": "stream",
     "text": [
      "do the multiplication 10(x)*20(y) is 200\n"
     ]
    }
   ],
   "source": [
    "print('do the multiplication %s(x)*%s(y) is %s'%(x,y,x*y))"
   ]
  },
  {
   "cell_type": "code",
   "execution_count": 80,
   "id": "66ea3683",
   "metadata": {},
   "outputs": [
    {
     "name": "stdout",
     "output_type": "stream",
     "text": [
      "lets do some floating pints 9897.24\n"
     ]
    }
   ],
   "source": [
    "print('lets do some floating pints {1:1.2f}'.format(135.098087,9897.235))"
   ]
  },
  {
   "cell_type": "code",
   "execution_count": null,
   "id": "b68fa404",
   "metadata": {},
   "outputs": [],
   "source": []
  }
 ],
 "metadata": {
  "kernelspec": {
   "display_name": "Python 3",
   "language": "python",
   "name": "python3"
  },
  "language_info": {
   "codemirror_mode": {
    "name": "ipython",
    "version": 3
   },
   "file_extension": ".py",
   "mimetype": "text/x-python",
   "name": "python",
   "nbconvert_exporter": "python",
   "pygments_lexer": "ipython3",
   "version": "3.8.8"
  }
 },
 "nbformat": 4,
 "nbformat_minor": 5
}
