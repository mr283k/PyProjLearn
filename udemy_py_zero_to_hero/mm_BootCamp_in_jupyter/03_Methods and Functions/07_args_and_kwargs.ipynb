{
 "cells": [
  {
   "cell_type": "code",
   "execution_count": 9,
   "id": "4f43d5e4",
   "metadata": {},
   "outputs": [
    {
     "name": "stdout",
     "output_type": "stream",
     "text": [
      "(10, 20, 30)\n",
      "('10', '20', '30')\n"
     ]
    }
   ],
   "source": [
    "# need to define args args o/p is in tuples\n",
    "\n",
    "def myfun(*args):\n",
    "    print(args)\n",
    "\n",
    "myfun(10,20,30)\n",
    "myfun('10','20','30')"
   ]
  },
  {
   "cell_type": "code",
   "execution_count": 10,
   "id": "a6fd0319",
   "metadata": {},
   "outputs": [
    {
     "name": "stdout",
     "output_type": "stream",
     "text": [
      "{'food': 'icecream'}\n"
     ]
    }
   ],
   "source": [
    "# defining key word arguments the result will come in dictionary \n",
    "def myfundic(**kwargs):\n",
    "    print(kwargs)\n",
    "    \n",
    "myfundic(food ='icecream')"
   ]
  },
  {
   "cell_type": "code",
   "execution_count": 12,
   "id": "8ace05f5",
   "metadata": {},
   "outputs": [
    {
     "data": {
      "text/plain": [
       "160"
      ]
     },
     "execution_count": 12,
     "metadata": {},
     "output_type": "execute_result"
    }
   ],
   "source": [
    "def sumofnum(*args):\n",
    "    return sum(args) * 10\n",
    "\n",
    "sumofnum(1,3,5,7)"
   ]
  },
  {
   "cell_type": "code",
   "execution_count": 18,
   "id": "4ede5ecf",
   "metadata": {},
   "outputs": [
    {
     "name": "stdout",
     "output_type": "stream",
     "text": [
      "grab the food i like which is ice\n"
     ]
    }
   ],
   "source": [
    "def getfruit(**kwargs):\n",
    "    if 'food' in kwargs:\n",
    "        print('grab the {} i like which is {}'.format('food',kwargs['food']))\n",
    "\n",
    "getfruit(fruit='apple',food='ice')"
   ]
  },
  {
   "cell_type": "code",
   "execution_count": null,
   "id": "b8e08fbd",
   "metadata": {},
   "outputs": [],
   "source": [
    "def deffun(*args,**kwargs):\n",
    "    print('i like to grab {} {}'.format(args,kwargs[]))"
   ]
  }
 ],
 "metadata": {
  "kernelspec": {
   "display_name": "Python 3",
   "language": "python",
   "name": "python3"
  },
  "language_info": {
   "codemirror_mode": {
    "name": "ipython",
    "version": 3
   },
   "file_extension": ".py",
   "mimetype": "text/x-python",
   "name": "python",
   "nbconvert_exporter": "python",
   "pygments_lexer": "ipython3",
   "version": "3.8.8"
  }
 },
 "nbformat": 4,
 "nbformat_minor": 5
}
