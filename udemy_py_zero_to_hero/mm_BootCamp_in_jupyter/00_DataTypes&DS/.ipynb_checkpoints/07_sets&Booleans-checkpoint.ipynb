{
 "cells": [
  {
   "cell_type": "markdown",
   "id": "369f5e81",
   "metadata": {},
   "source": [
    "### Sets are unsorted unique numbers in a datatype rep by {} with only vlaues\n",
    "\n",
    "### Booleans are True or False \n",
    "\n",
    "### You can assign a variable a \"None\" data type so that python dont compain"
   ]
  },
  {
   "cell_type": "code",
   "execution_count": 5,
   "id": "241a02c1",
   "metadata": {},
   "outputs": [],
   "source": [
    "my_list = set()"
   ]
  },
  {
   "cell_type": "code",
   "execution_count": 6,
   "id": "7cb6945f",
   "metadata": {},
   "outputs": [
    {
     "data": {
      "text/plain": [
       "set()"
      ]
     },
     "execution_count": 6,
     "metadata": {},
     "output_type": "execute_result"
    }
   ],
   "source": [
    "my_list"
   ]
  },
  {
   "cell_type": "code",
   "execution_count": 7,
   "id": "37ee661c",
   "metadata": {},
   "outputs": [],
   "source": [
    "my_list = [1, 2, 2, 3, 3, 3]"
   ]
  },
  {
   "cell_type": "code",
   "execution_count": 17,
   "id": "eaef7bc6",
   "metadata": {},
   "outputs": [
    {
     "data": {
      "text/plain": [
       "[1, 2, 2, 3, 3, 3, 4]"
      ]
     },
     "execution_count": 17,
     "metadata": {},
     "output_type": "execute_result"
    }
   ],
   "source": [
    "my_list"
   ]
  },
  {
   "cell_type": "code",
   "execution_count": 16,
   "id": "e14a2bba",
   "metadata": {},
   "outputs": [],
   "source": [
    "my_list.append(4)"
   ]
  },
  {
   "cell_type": "code",
   "execution_count": 14,
   "id": "22a32c67",
   "metadata": {},
   "outputs": [
    {
     "data": {
      "text/plain": [
       "{1, 2, 3}"
      ]
     },
     "execution_count": 14,
     "metadata": {},
     "output_type": "execute_result"
    }
   ],
   "source": [
    "set(my_list)"
   ]
  },
  {
   "cell_type": "code",
   "execution_count": 18,
   "id": "20bd7974",
   "metadata": {},
   "outputs": [],
   "source": [
    "unq_list = set(my_list)"
   ]
  },
  {
   "cell_type": "code",
   "execution_count": 19,
   "id": "46b1795a",
   "metadata": {},
   "outputs": [
    {
     "data": {
      "text/plain": [
       "{1, 2, 3, 4}"
      ]
     },
     "execution_count": 19,
     "metadata": {},
     "output_type": "execute_result"
    }
   ],
   "source": [
    "unq_list"
   ]
  },
  {
   "cell_type": "code",
   "execution_count": 20,
   "id": "b80e227b",
   "metadata": {},
   "outputs": [],
   "source": [
    "unq_set = set()\n",
    "unq_set.add(1)"
   ]
  },
  {
   "cell_type": "code",
   "execution_count": 21,
   "id": "daed4416",
   "metadata": {},
   "outputs": [
    {
     "data": {
      "text/plain": [
       "{1}"
      ]
     },
     "execution_count": 21,
     "metadata": {},
     "output_type": "execute_result"
    }
   ],
   "source": [
    "unq_set"
   ]
  },
  {
   "cell_type": "code",
   "execution_count": 23,
   "id": "5f27eef8",
   "metadata": {},
   "outputs": [],
   "source": [
    "unq_set.add('hello')"
   ]
  },
  {
   "cell_type": "code",
   "execution_count": 24,
   "id": "cb04701e",
   "metadata": {},
   "outputs": [],
   "source": [
    "unq_set.add('hello')"
   ]
  },
  {
   "cell_type": "code",
   "execution_count": 25,
   "id": "bbfaa22f",
   "metadata": {},
   "outputs": [
    {
     "data": {
      "text/plain": [
       "{1, 'hello'}"
      ]
     },
     "execution_count": 25,
     "metadata": {},
     "output_type": "execute_result"
    }
   ],
   "source": [
    "unq_set"
   ]
  },
  {
   "cell_type": "code",
   "execution_count": 4,
   "id": "16c2bd89",
   "metadata": {},
   "outputs": [
    {
     "data": {
      "text/plain": [
       "True"
      ]
     },
     "execution_count": 4,
     "metadata": {},
     "output_type": "execute_result"
    }
   ],
   "source": [
    "1 < 2"
   ]
  },
  {
   "cell_type": "code",
   "execution_count": 27,
   "id": "106744b3",
   "metadata": {},
   "outputs": [
    {
     "ename": "NameError",
     "evalue": "name 'b' is not defined",
     "output_type": "error",
     "traceback": [
      "\u001b[0;31m---------------------------------------------------------------------------\u001b[0m",
      "\u001b[0;31mNameError\u001b[0m                                 Traceback (most recent call last)",
      "\u001b[0;32m<ipython-input-27-89e6c98d9288>\u001b[0m in \u001b[0;36m<module>\u001b[0;34m\u001b[0m\n\u001b[0;32m----> 1\u001b[0;31m \u001b[0mb\u001b[0m\u001b[0;34m\u001b[0m\u001b[0;34m\u001b[0m\u001b[0m\n\u001b[0m",
      "\u001b[0;31mNameError\u001b[0m: name 'b' is not defined"
     ]
    }
   ],
   "source": [
    "b"
   ]
  },
  {
   "cell_type": "code",
   "execution_count": null,
   "id": "1bd62964",
   "metadata": {},
   "outputs": [],
   "source": [
    "b = None"
   ]
  },
  {
   "cell_type": "code",
   "execution_count": null,
   "id": "afee2725",
   "metadata": {},
   "outputs": [],
   "source": [
    "b"
   ]
  },
  {
   "cell_type": "code",
   "execution_count": null,
   "id": "ca334417",
   "metadata": {},
   "outputs": [],
   "source": []
  },
  {
   "cell_type": "code",
   "execution_count": null,
   "id": "4abde10c",
   "metadata": {},
   "outputs": [],
   "source": []
  }
 ],
 "metadata": {
  "kernelspec": {
   "display_name": "Python 3",
   "language": "python",
   "name": "python3"
  },
  "language_info": {
   "codemirror_mode": {
    "name": "ipython",
    "version": 3
   },
   "file_extension": ".py",
   "mimetype": "text/x-python",
   "name": "python",
   "nbconvert_exporter": "python",
   "pygments_lexer": "ipython3",
   "version": "3.8.8"
  }
 },
 "nbformat": 4,
 "nbformat_minor": 5
}
