{
 "cells": [
  {
   "cell_type": "markdown",
   "id": "91e962fc",
   "metadata": {},
   "source": [
    "### Functions are defined using \"def funtion_name()\" functions name would follow lower case & _ "
   ]
  },
  {
   "cell_type": "code",
   "execution_count": 4,
   "id": "cfd451df",
   "metadata": {},
   "outputs": [],
   "source": [
    "def helloworld():\n",
    "    print('HelloWorld')"
   ]
  },
  {
   "cell_type": "code",
   "execution_count": 26,
   "id": "4d244a66",
   "metadata": {},
   "outputs": [
    {
     "name": "stdout",
     "output_type": "stream",
     "text": [
      "HelloWorld\n"
     ]
    }
   ],
   "source": [
    "helloworld()"
   ]
  },
  {
   "cell_type": "code",
   "execution_count": 27,
   "id": "3fd5d2a5",
   "metadata": {},
   "outputs": [],
   "source": [
    "def greeting(name):\n",
    "    print('Hello {}'.format(name))"
   ]
  },
  {
   "cell_type": "code",
   "execution_count": 29,
   "id": "24be57af",
   "metadata": {},
   "outputs": [
    {
     "name": "stdout",
     "output_type": "stream",
     "text": [
      "Hello sam\n"
     ]
    }
   ],
   "source": [
    "greeting('sam')"
   ]
  },
  {
   "cell_type": "code",
   "execution_count": 7,
   "id": "4d0e2a3c",
   "metadata": {},
   "outputs": [
    {
     "ename": "NameError",
     "evalue": "name 'jose' is not defined",
     "output_type": "error",
     "traceback": [
      "\u001b[0;31m---------------------------------------------------------------------------\u001b[0m",
      "\u001b[0;31mNameError\u001b[0m                                 Traceback (most recent call last)",
      "\u001b[0;32m<ipython-input-7-7225dd3fbdef>\u001b[0m in \u001b[0;36m<module>\u001b[0;34m\u001b[0m\n\u001b[0;32m----> 1\u001b[0;31m \u001b[0mgreeting\u001b[0m\u001b[0;34m(\u001b[0m\u001b[0mjose\u001b[0m\u001b[0;34m)\u001b[0m\u001b[0;34m\u001b[0m\u001b[0;34m\u001b[0m\u001b[0m\n\u001b[0m",
      "\u001b[0;31mNameError\u001b[0m: name 'jose' is not defined"
     ]
    }
   ],
   "source": [
    "greeting(jose)"
   ]
  },
  {
   "cell_type": "code",
   "execution_count": 42,
   "id": "b39c92da",
   "metadata": {},
   "outputs": [
    {
     "name": "stdout",
     "output_type": "stream",
     "text": [
      "none\n"
     ]
    }
   ],
   "source": [
    "def bolfun(x):\n",
    "    if x == True:\n",
    "        print('Hello')\n",
    "    elif x == False:\n",
    "        print('Goofbye')\n",
    "    else :\n",
    "        print('none')\n",
    "        \n",
    "x = ''\n",
    "bolfun(x)"
   ]
  },
  {
   "cell_type": "code",
   "execution_count": 44,
   "id": "2430e7ed",
   "metadata": {},
   "outputs": [
    {
     "data": {
      "text/plain": [
       "'Hello'"
      ]
     },
     "execution_count": 44,
     "metadata": {},
     "output_type": "execute_result"
    }
   ],
   "source": [
    "def bolfun(x):\n",
    "    if x == True:\n",
    "        return 'Hello'\n",
    "    elif x == False:\n",
    "        return 'Goofbye'\n",
    "    else :\n",
    "        return 'none'\n",
    "        \n",
    "x = 3 > 2\n",
    "bolfun(x)"
   ]
  },
  {
   "cell_type": "code",
   "execution_count": 39,
   "id": "62a25dcc",
   "metadata": {},
   "outputs": [
    {
     "data": {
      "text/plain": [
       "bool"
      ]
     },
     "execution_count": 39,
     "metadata": {},
     "output_type": "execute_result"
    }
   ],
   "source": [
    "x = 3>2\n",
    "x\n",
    "type(x)"
   ]
  },
  {
   "cell_type": "markdown",
   "id": "06694990",
   "metadata": {},
   "source": [
    "### Usually fuctions get defined with return statement rather than print coz return can hold the result and pass to variable "
   ]
  },
  {
   "cell_type": "code",
   "execution_count": 8,
   "id": "46b8aac1",
   "metadata": {},
   "outputs": [
    {
     "name": "stdout",
     "output_type": "stream",
     "text": [
      "total 3\n"
     ]
    }
   ],
   "source": [
    "def sumof(num1,num2):\n",
    "    print('total {}'.format(num1+num2))\n",
    "\n",
    "sumof(1,2)"
   ]
  },
  {
   "cell_type": "code",
   "execution_count": 9,
   "id": "ddeffa4e",
   "metadata": {},
   "outputs": [
    {
     "name": "stdout",
     "output_type": "stream",
     "text": [
      "total 3\n"
     ]
    }
   ],
   "source": [
    "x = sumof(1,2)"
   ]
  },
  {
   "cell_type": "code",
   "execution_count": 10,
   "id": "9ac653fc",
   "metadata": {},
   "outputs": [],
   "source": [
    "x"
   ]
  },
  {
   "cell_type": "code",
   "execution_count": 11,
   "id": "8267b287",
   "metadata": {},
   "outputs": [
    {
     "data": {
      "text/plain": [
       "NoneType"
      ]
     },
     "execution_count": 11,
     "metadata": {},
     "output_type": "execute_result"
    }
   ],
   "source": [
    "type(x)"
   ]
  },
  {
   "cell_type": "markdown",
   "id": "9153d9b0",
   "metadata": {},
   "source": [
    "###  as you can see x did not hold the value of the result it just typed it"
   ]
  },
  {
   "cell_type": "code",
   "execution_count": 12,
   "id": "a0a9c19c",
   "metadata": {},
   "outputs": [
    {
     "data": {
      "text/plain": [
       "'total 3'"
      ]
     },
     "execution_count": 12,
     "metadata": {},
     "output_type": "execute_result"
    }
   ],
   "source": [
    "def sumofreturn(num1,num2):\n",
    "    return('total {}'.format(num1+num2))\n",
    "\n",
    "sumofreturn(1,2)"
   ]
  },
  {
   "cell_type": "code",
   "execution_count": 13,
   "id": "eff629cb",
   "metadata": {},
   "outputs": [
    {
     "data": {
      "text/plain": [
       "'total 7'"
      ]
     },
     "execution_count": 13,
     "metadata": {},
     "output_type": "execute_result"
    }
   ],
   "source": [
    "y = sumofreturn(3,4)\n",
    "y"
   ]
  },
  {
   "cell_type": "markdown",
   "id": "77c5a422",
   "metadata": {},
   "source": [
    "###  as you can see return does hold the value of the output that can be passed to variable"
   ]
  },
  {
   "cell_type": "code",
   "execution_count": 16,
   "id": "b124c78c",
   "metadata": {},
   "outputs": [
    {
     "data": {
      "text/plain": [
       "False"
      ]
     },
     "execution_count": 16,
     "metadata": {},
     "output_type": "execute_result"
    }
   ],
   "source": [
    "# check if the num is odd or even\n",
    "def check_even(num):\n",
    "    return num%2 == 0\n",
    "\n",
    "check_even(3)"
   ]
  },
  {
   "cell_type": "code",
   "execution_count": 17,
   "id": "e107ad0b",
   "metadata": {},
   "outputs": [
    {
     "data": {
      "text/plain": [
       "True"
      ]
     },
     "execution_count": 17,
     "metadata": {},
     "output_type": "execute_result"
    }
   ],
   "source": [
    "check_even(4)"
   ]
  },
  {
   "cell_type": "markdown",
   "id": "a9356092",
   "metadata": {},
   "source": [
    "### how to check the logic and make sure return is used correctly "
   ]
  },
  {
   "cell_type": "code",
   "execution_count": 26,
   "id": "84aafd8e",
   "metadata": {},
   "outputs": [
    {
     "data": {
      "text/plain": [
       "True"
      ]
     },
     "execution_count": 26,
     "metadata": {},
     "output_type": "execute_result"
    }
   ],
   "source": [
    "# check through even num list, if my list has even the print True\n",
    "def check_even_list(num_list):\n",
    "    for number in num_list:\n",
    "        if number % 2 == 0:\n",
    "            return True   # once return called the iteration will stop.\n",
    "        else:\n",
    "            pass # passs will make the iteration go through until the end of the list\n",
    "\n",
    "check_even_list([1,3,4,7]) # if all odd function will not return anything\n",
    "        "
   ]
  },
  {
   "cell_type": "markdown",
   "id": "7230f791",
   "metadata": {},
   "source": [
    "###  common error that is made is where to use the return, some times if used incorrect program will not iterate all values befor it  find the correct result following is the case"
   ]
  },
  {
   "cell_type": "code",
   "execution_count": 24,
   "id": "4e35aed0",
   "metadata": {},
   "outputs": [
    {
     "data": {
      "text/plain": [
       "False"
      ]
     },
     "execution_count": 24,
     "metadata": {},
     "output_type": "execute_result"
    }
   ],
   "source": [
    "# check through even num list, if my list has even the print True but retuen False if even is not there\n",
    "# In this case if we use return at pass then then u can get incorrect result\n",
    "\n",
    "def check_even_list(num_list):\n",
    "    for number in num_list:\n",
    "        if number % 2 == 0:\n",
    "            return True  \n",
    "        else:\n",
    "            return False\n",
    "            pass # passs will make the iteration go through until the end of the list\n",
    "\n",
    "check_even_list([1,3,4,7])\n",
    "\n",
    "# as you can see the result is incorrent coz we do have 4 in there"
   ]
  },
  {
   "cell_type": "code",
   "execution_count": 24,
   "id": "26b00831",
   "metadata": {},
   "outputs": [
    {
     "data": {
      "text/plain": [
       "False"
      ]
     },
     "execution_count": 24,
     "metadata": {},
     "output_type": "execute_result"
    }
   ],
   "source": [
    "# check through even num list, if my list has even the print True but retuen False if even is not there\n",
    "# In this case if we use return at pass then then u can get incorrect result\n",
    "def check_even_list(num_list):\n",
    "    for number in num_list:\n",
    "        if number % 2 == 0:\n",
    "            return True  \n",
    "        else:\n",
    "            return False\n",
    "            pass # passs will make the iteration go through until the end of the list\n",
    "\n",
    "check_even_list([1,3,4,7])\n",
    "# as you can see the result is incorrent coz we do have 4 in there"
   ]
  },
  {
   "cell_type": "code",
   "execution_count": 27,
   "id": "6d0e9452",
   "metadata": {},
   "outputs": [
    {
     "data": {
      "text/plain": [
       "False"
      ]
     },
     "execution_count": 27,
     "metadata": {},
     "output_type": "execute_result"
    }
   ],
   "source": [
    "# To get right result we have to use the return on right indentation\n",
    "\n",
    "def check_even_list(num_list):\n",
    "    for number in num_list:\n",
    "        if number % 2 == 0:\n",
    "            return True  \n",
    "        else:\n",
    "            pass # passs will make the iteration go through until the end of the list\n",
    "        return False\n",
    "\n",
    "check_even_list([1,3,4,7])\n",
    "# as you can see the result is incorrent coz we do have 4 in there"
   ]
  },
  {
   "cell_type": "code",
   "execution_count": 28,
   "id": "140f148c",
   "metadata": {},
   "outputs": [
    {
     "data": {
      "text/plain": [
       "True"
      ]
     },
     "execution_count": 28,
     "metadata": {},
     "output_type": "execute_result"
    }
   ],
   "source": [
    "# To get right result we have to use the return on right indentation\n",
    "\n",
    "def check_even_list(num_list):\n",
    "    for number in num_list:\n",
    "        if number % 2 == 0:\n",
    "            return True  \n",
    "        else:\n",
    "            pass # passs will make the iteration go through until the end of the list\n",
    "    return False\n",
    "\n",
    "check_even_list([1,3,4,7])\n",
    "# as you can see the result is correct"
   ]
  },
  {
   "cell_type": "code",
   "execution_count": 31,
   "id": "bd5d5c3a",
   "metadata": {},
   "outputs": [
    {
     "data": {
      "text/plain": [
       "[4, 8]"
      ]
     },
     "execution_count": 31,
     "metadata": {},
     "output_type": "execute_result"
    }
   ],
   "source": [
    "# what if we want to get all the even numbers form the list\n",
    "\n",
    "def check_even_list(num_list) :\n",
    "    even_list = []\n",
    "    for number in num_list:\n",
    "        if number % 2 == 0:\n",
    "            even_list.append(number)\n",
    "        else:\n",
    "            pass \n",
    "    return even_list\n",
    "\n",
    "check_even_list([1,3,4,7,8])\n",
    "# as you can see the result is correct"
   ]
  },
  {
   "cell_type": "markdown",
   "id": "670a6298",
   "metadata": {},
   "source": [
    "### Tuple unpacking for the functions "
   ]
  },
  {
   "cell_type": "code",
   "execution_count": 48,
   "id": "509a604e",
   "metadata": {},
   "outputs": [
    {
     "name": "stdout",
     "output_type": "stream",
     "text": [
      "jose 100 0\n",
      "if case\n",
      "jose 100 100\n",
      "claire 90 100\n",
      "sam 600 100\n",
      "if case\n",
      "sam 600 600\n"
     ]
    },
    {
     "data": {
      "text/plain": [
       "('sam', 600)"
      ]
     },
     "execution_count": 48,
     "metadata": {},
     "output_type": "execute_result"
    }
   ],
   "source": [
    "work = [('jose',100),('claire',90),('sam',600)]\n",
    "\n",
    "def emp_check(workhours):\n",
    "    cur_max = 0\n",
    "    emp_of_month = ''\n",
    "    for emp,hours in workhours:\n",
    "        print(emp,hours, cur_max)  # debugging to see what values are in there\n",
    "        if hours > cur_max :\n",
    "            emp_of_month = emp\n",
    "            cur_max = hours\n",
    "            print('if case')\n",
    "            print(emp,hours, cur_max) # debuggging what values are in there\n",
    "        else:\n",
    "            pass\n",
    "        \n",
    "    return (emp_of_month, cur_max)\n",
    "#    print()\n",
    "\n",
    "emp_check(work)"
   ]
  },
  {
   "cell_type": "code",
   "execution_count": 54,
   "id": "b3cdd594",
   "metadata": {},
   "outputs": [],
   "source": [
    "work = [('jose',900),('claire',1200),('sam',600)]\n",
    "\n",
    "def emp_check(workhours):\n",
    "    cur_max = 0\n",
    "    emp_of_month = ''\n",
    "    for emp,hours in workhours:\n",
    "        if hours > cur_max :\n",
    "            emp_of_month = emp\n",
    "            cur_max = hours\n",
    "        else:\n",
    "            pass\n",
    "        \n",
    "    return (emp_of_month, cur_max)\n",
    "#    print()\n",
    "\n"
   ]
  },
  {
   "cell_type": "code",
   "execution_count": 52,
   "id": "dce89e13",
   "metadata": {},
   "outputs": [
    {
     "data": {
      "text/plain": [
       "('jose', 900)"
      ]
     },
     "execution_count": 52,
     "metadata": {},
     "output_type": "execute_result"
    }
   ],
   "source": [
    "result = emp_check(work)\n",
    "result"
   ]
  },
  {
   "cell_type": "code",
   "execution_count": 55,
   "id": "5df36eee",
   "metadata": {},
   "outputs": [
    {
     "data": {
      "text/plain": [
       "1200"
      ]
     },
     "execution_count": 55,
     "metadata": {},
     "output_type": "execute_result"
    }
   ],
   "source": [
    "name,maxhours = emp_check(work)\n",
    "name\n",
    "maxhours"
   ]
  },
  {
   "cell_type": "markdown",
   "id": "f66d955c",
   "metadata": {},
   "source": [
    "###  doing guessing logic for the cupping, calling multiple fuctions "
   ]
  },
  {
   "cell_type": "code",
   "execution_count": 1,
   "id": "6d4d7b9a",
   "metadata": {},
   "outputs": [],
   "source": [
    "x = [' ','O',' ']"
   ]
  },
  {
   "cell_type": "code",
   "execution_count": 2,
   "id": "4d031888",
   "metadata": {},
   "outputs": [],
   "source": [
    "from random import shuffle"
   ]
  },
  {
   "cell_type": "code",
   "execution_count": 3,
   "id": "eeba8a98",
   "metadata": {},
   "outputs": [
    {
     "data": {
      "text/plain": [
       "[' ', 'O', ' ']"
      ]
     },
     "execution_count": 3,
     "metadata": {},
     "output_type": "execute_result"
    }
   ],
   "source": [
    "shuffle(x)\n",
    "x"
   ]
  },
  {
   "cell_type": "code",
   "execution_count": 61,
   "id": "064b76ce",
   "metadata": {},
   "outputs": [],
   "source": [
    "# 1. function doing shuffling\n",
    "# 2. User doing the guess, create function\n",
    "# 3. Creating another fuc to call above 2 fuc, for checking to see if user guessed right\n",
    "# 4. disply shuffle result and user result to prove he is right or wrong"
   ]
  },
  {
   "cell_type": "code",
   "execution_count": 5,
   "id": "8610910c",
   "metadata": {},
   "outputs": [],
   "source": [
    "# 1 shuffling\n",
    "from random import shuffle\n",
    "def shuf_cup(deal_list):\n",
    "    shuffle(deal_list)\n",
    "    return deal_list\n",
    "        "
   ]
  },
  {
   "cell_type": "code",
   "execution_count": 6,
   "id": "6d24ec2d",
   "metadata": {},
   "outputs": [],
   "source": [
    "# 2 user guess\n",
    "def user_guess():  \n",
    "    guess = ''\n",
    "    while guess not in ['0','1','2']:\n",
    "        guess = input('guess the position 0,1 or 2 : ')\n",
    "    return int(guess) # we are doing int coz input always result in str\n"
   ]
  },
  {
   "cell_type": "code",
   "execution_count": 7,
   "id": "46aa6f81",
   "metadata": {},
   "outputs": [
    {
     "name": "stdout",
     "output_type": "stream",
     "text": [
      "guess the position 0,1 or 2 : 9\n",
      "guess the position 0,1 or 2 : 2\n"
     ]
    },
    {
     "data": {
      "text/plain": [
       "2"
      ]
     },
     "execution_count": 7,
     "metadata": {},
     "output_type": "execute_result"
    }
   ],
   "source": [
    "user_guess()"
   ]
  },
  {
   "cell_type": "code",
   "execution_count": 14,
   "id": "a90855f9",
   "metadata": {},
   "outputs": [],
   "source": [
    "# 3 check dealt shuffle list vs user guess\n",
    "def check_guess(user_list,guess):\n",
    "    if user_list[guess] == 'O':\n",
    "        return 'user is correct'\n",
    "    else:\n",
    "        return 'user is wrong'"
   ]
  },
  {
   "cell_type": "code",
   "execution_count": 23,
   "id": "d6f691d8",
   "metadata": {},
   "outputs": [
    {
     "name": "stdout",
     "output_type": "stream",
     "text": [
      "guess the position 0,1 or 2 : 2\n"
     ]
    },
    {
     "data": {
      "text/plain": [
       "'user is wrong'"
      ]
     },
     "execution_count": 23,
     "metadata": {},
     "output_type": "execute_result"
    }
   ],
   "source": [
    "# user list \n",
    "user_list = ['O',' ',' ']\n",
    "# shuffled list\n",
    "mixed_list = shuf_cup(user_list)\n",
    "# user input\n",
    "guess = user_guess()\n",
    "# check guess\n",
    "check_guess(mixed_list,guess)"
   ]
  },
  {
   "cell_type": "code",
   "execution_count": 8,
   "id": "879f7e77",
   "metadata": {},
   "outputs": [],
   "source": [
    "# user list \n",
    "user_list = ['O',' ',' ']"
   ]
  },
  {
   "cell_type": "code",
   "execution_count": 18,
   "id": "44045073",
   "metadata": {},
   "outputs": [],
   "source": [
    "# shuffled list\n",
    "mixed_list = shuf_cup(user_list)"
   ]
  },
  {
   "cell_type": "code",
   "execution_count": 24,
   "id": "ac3ab7ba",
   "metadata": {},
   "outputs": [
    {
     "data": {
      "text/plain": [
       "[' ', 'O', ' ']"
      ]
     },
     "execution_count": 24,
     "metadata": {},
     "output_type": "execute_result"
    }
   ],
   "source": [
    "mixed_list"
   ]
  },
  {
   "cell_type": "code",
   "execution_count": 19,
   "id": "c81a33ec",
   "metadata": {},
   "outputs": [
    {
     "name": "stdout",
     "output_type": "stream",
     "text": [
      "guess the position 0,1 or 2 : 3\n",
      "guess the position 0,1 or 2 : 2\n"
     ]
    }
   ],
   "source": [
    "# user input\n",
    "guess = user_guess()"
   ]
  },
  {
   "cell_type": "code",
   "execution_count": 12,
   "id": "1f3d9aef",
   "metadata": {},
   "outputs": [
    {
     "data": {
      "text/plain": [
       "1"
      ]
     },
     "execution_count": 12,
     "metadata": {},
     "output_type": "execute_result"
    }
   ],
   "source": [
    "guess"
   ]
  },
  {
   "cell_type": "code",
   "execution_count": 20,
   "id": "448e7ee2",
   "metadata": {},
   "outputs": [
    {
     "data": {
      "text/plain": [
       "'user is wrong'"
      ]
     },
     "execution_count": 20,
     "metadata": {},
     "output_type": "execute_result"
    }
   ],
   "source": [
    "# check guess\n",
    "check_guess(mixed_list,guess)\n"
   ]
  },
  {
   "cell_type": "code",
   "execution_count": 2,
   "id": "c5c955f5",
   "metadata": {},
   "outputs": [],
   "source": [
    "mylist = [1,2,3,4,5]\n",
    "from random import shuffle \n",
    "shuffle(mylist)"
   ]
  },
  {
   "cell_type": "code",
   "execution_count": 3,
   "id": "d36eac92",
   "metadata": {},
   "outputs": [
    {
     "name": "stdout",
     "output_type": "stream",
     "text": [
      "[4, 5, 2, 1, 3]\n"
     ]
    }
   ],
   "source": [
    "print(mylist)"
   ]
  },
  {
   "cell_type": "markdown",
   "id": "929c60c6",
   "metadata": {},
   "source": [
    "** second time doing it **"
   ]
  },
  {
   "cell_type": "code",
   "execution_count": 5,
   "id": "fcb3f13d",
   "metadata": {},
   "outputs": [],
   "source": [
    "def myfun():\n",
    "    print(\"Hello World\")"
   ]
  },
  {
   "cell_type": "code",
   "execution_count": 6,
   "id": "a1d122c8",
   "metadata": {},
   "outputs": [
    {
     "name": "stdout",
     "output_type": "stream",
     "text": [
      "Hello World\n"
     ]
    }
   ],
   "source": [
    "myfun()"
   ]
  },
  {
   "cell_type": "code",
   "execution_count": 7,
   "id": "b6ae8e82",
   "metadata": {},
   "outputs": [],
   "source": [
    "def greetings(name):\n",
    "    print(f\"Hello {name}\")"
   ]
  },
  {
   "cell_type": "code",
   "execution_count": 8,
   "id": "39c7fa75",
   "metadata": {},
   "outputs": [
    {
     "name": "stdout",
     "output_type": "stream",
     "text": [
      "Hello same\n"
     ]
    }
   ],
   "source": [
    "greetings(\"same\")"
   ]
  },
  {
   "cell_type": "markdown",
   "id": "b125310b",
   "metadata": {},
   "source": [
    "#Functions #3 - simple Boolean\n",
    "Define a function called myfunc that takes in a Boolean value (True or False). If True, return 'Hello', and if False, return 'Goodbye'\n",
    "\n",
    "Remember, don't run the function, simply provide the definition."
   ]
  },
  {
   "cell_type": "code",
   "execution_count": 9,
   "id": "ccf39e17",
   "metadata": {},
   "outputs": [],
   "source": [
    "def bool_check(booleanvalue):\n",
    "    if booleanvalue:\n",
    "        return \"Hello\"\n",
    "    else:\n",
    "        return \"Goodbye\"\n",
    "    "
   ]
  },
  {
   "cell_type": "code",
   "execution_count": 10,
   "id": "76f07662",
   "metadata": {},
   "outputs": [
    {
     "data": {
      "text/plain": [
       "'Hello'"
      ]
     },
     "execution_count": 10,
     "metadata": {},
     "output_type": "execute_result"
    }
   ],
   "source": [
    "bool_check(True)"
   ]
  },
  {
   "cell_type": "code",
   "execution_count": 11,
   "id": "a9926e5a",
   "metadata": {},
   "outputs": [
    {
     "data": {
      "text/plain": [
       "'Goodbye'"
      ]
     },
     "execution_count": 11,
     "metadata": {},
     "output_type": "execute_result"
    }
   ],
   "source": [
    "bool_check(False)"
   ]
  },
  {
   "cell_type": "markdown",
   "id": "2f38bc8c",
   "metadata": {},
   "source": [
    "Functions #4 - using Booleans\n",
    "Define a function called myfunc that takes three arguments, x, y and z.\n",
    "If z is True, return x.  If z is False, return y.\n",
    "\n",
    "Remember, don't run the function, simply provide the definition.\n"
   ]
  },
  {
   "cell_type": "code",
   "execution_count": 12,
   "id": "02fc4983",
   "metadata": {},
   "outputs": [],
   "source": [
    "def b_check(x,y,z):\n",
    "    if z:\n",
    "        return x\n",
    "    else:\n",
    "        return y"
   ]
  },
  {
   "cell_type": "code",
   "execution_count": 13,
   "id": "2f1265b0",
   "metadata": {},
   "outputs": [
    {
     "data": {
      "text/plain": [
       "8"
      ]
     },
     "execution_count": 13,
     "metadata": {},
     "output_type": "execute_result"
    }
   ],
   "source": [
    "b_check(1,8,False)"
   ]
  },
  {
   "cell_type": "markdown",
   "id": "9b67a9c1",
   "metadata": {},
   "source": [
    "Functions #5: simple math\n",
    "Define a function called myfunc that takes in two arguments and returns their sum.\n",
    "\n",
    "Remember, don't run the function, simply provide the definition.\n"
   ]
  },
  {
   "cell_type": "code",
   "execution_count": 19,
   "id": "a47ba5b8",
   "metadata": {},
   "outputs": [],
   "source": [
    "def agg_fun(x,y):\n",
    "    if isinstance(x,int) and isinstance(y,int):\n",
    "        return x+y\n",
    "    else:\n",
    "        print(f\"incorrect type {x} & {y}\")\n",
    "        "
   ]
  },
  {
   "cell_type": "code",
   "execution_count": 17,
   "id": "605e511d",
   "metadata": {},
   "outputs": [
    {
     "data": {
      "text/plain": [
       "12"
      ]
     },
     "execution_count": 17,
     "metadata": {},
     "output_type": "execute_result"
    }
   ],
   "source": [
    "agg_fun(4,8)"
   ]
  },
  {
   "cell_type": "code",
   "execution_count": 20,
   "id": "0d1dfe49",
   "metadata": {},
   "outputs": [
    {
     "name": "stdout",
     "output_type": "stream",
     "text": [
      "incorrect type 3 & 7\n"
     ]
    }
   ],
   "source": [
    "agg_fun('3','7')"
   ]
  },
  {
   "cell_type": "markdown",
   "id": "1324520b",
   "metadata": {},
   "source": [
    "Functions #6: is even\n",
    "Define a function called is_even that takes in one argument, and returns True if the passed-in value is even, False if it is not.\n",
    "\n",
    "Remember, don't run the function, simply provide the definition."
   ]
  },
  {
   "cell_type": "code",
   "execution_count": 21,
   "id": "bc3e2f09",
   "metadata": {},
   "outputs": [],
   "source": [
    "def is_even(x):\n",
    "    if x % 2 == 0:\n",
    "        return True\n",
    "    else:\n",
    "        return False"
   ]
  },
  {
   "cell_type": "code",
   "execution_count": 22,
   "id": "570ad079",
   "metadata": {},
   "outputs": [
    {
     "data": {
      "text/plain": [
       "True"
      ]
     },
     "execution_count": 22,
     "metadata": {},
     "output_type": "execute_result"
    }
   ],
   "source": [
    "is_even(234)"
   ]
  },
  {
   "cell_type": "code",
   "execution_count": 23,
   "id": "e67b8d96",
   "metadata": {},
   "outputs": [
    {
     "data": {
      "text/plain": [
       "False"
      ]
     },
     "execution_count": 23,
     "metadata": {},
     "output_type": "execute_result"
    }
   ],
   "source": [
    "is_even(423421)"
   ]
  },
  {
   "cell_type": "markdown",
   "id": "fab4d578",
   "metadata": {},
   "source": [
    "Functions #8: *args\n",
    "Define a function called myfunc that takes in an arbitrary number of arguments, and returns the sum of those arguments."
   ]
  },
  {
   "cell_type": "code",
   "execution_count": 24,
   "id": "649db1d1",
   "metadata": {},
   "outputs": [],
   "source": [
    "def myfun(*args):\n",
    "    return sum(args)"
   ]
  },
  {
   "cell_type": "code",
   "execution_count": 25,
   "id": "3445fe75",
   "metadata": {},
   "outputs": [
    {
     "data": {
      "text/plain": [
       "15"
      ]
     },
     "execution_count": 25,
     "metadata": {},
     "output_type": "execute_result"
    }
   ],
   "source": [
    "myfun(3,6,6)"
   ]
  },
  {
   "cell_type": "markdown",
   "id": "136530c0",
   "metadata": {},
   "source": [
    "Functions #9: pick evens\n",
    "Define a function called myfunc that takes in an arbitrary number of arguments, and returns a list containing only those arguments that are even.\n"
   ]
  },
  {
   "cell_type": "code",
   "execution_count": 28,
   "id": "8924e195",
   "metadata": {},
   "outputs": [],
   "source": [
    "def myfunc(*args):\n",
    "    args_even = []\n",
    "    for items in args:\n",
    "        if items % 2 == 0:\n",
    "            args_even.append(items)\n",
    "        else:\n",
    "            pass\n",
    "    return args_even"
   ]
  },
  {
   "cell_type": "code",
   "execution_count": 29,
   "id": "7398e4dd",
   "metadata": {},
   "outputs": [
    {
     "data": {
      "text/plain": [
       "[6, 6, 14]"
      ]
     },
     "execution_count": 29,
     "metadata": {},
     "output_type": "execute_result"
    }
   ],
   "source": [
    "myfunc(3,51,1,6,1,6,14)"
   ]
  },
  {
   "cell_type": "markdown",
   "id": "7cfda361",
   "metadata": {},
   "source": [
    "Functions #10: skyline\n",
    "Define a function called myfunc that takes in a string, and returns a matching string where every even letter is uppercase, and every odd letter is lowercase. Assume that the incoming string only contains letters, and don't worry about numbers, spaces or punctuation. The output string can start with either an uppercase or lowercase letter, so long as letters alternate throughout the string."
   ]
  },
  {
   "cell_type": "code",
   "execution_count": 30,
   "id": "90489396",
   "metadata": {},
   "outputs": [],
   "source": [
    "def myfunc(string):\n",
    "    for words in string:\n",
    "        for letters in words:\n",
    "            if letters. % 2 == 0:\n",
    "              print(letters)"
   ]
  },
  {
   "cell_type": "code",
   "execution_count": 31,
   "id": "d32d80fe",
   "metadata": {},
   "outputs": [
    {
     "name": "stdout",
     "output_type": "stream",
     "text": [
      "H\n",
      "e\n",
      "l\n",
      "l\n",
      "o\n",
      " \n",
      "W\n",
      "o\n",
      "r\n",
      "l\n",
      "d\n"
     ]
    }
   ],
   "source": [
    "myfunc('Hello World')"
   ]
  },
  {
   "cell_type": "code",
   "execution_count": 38,
   "id": "30cf1af5",
   "metadata": {},
   "outputs": [],
   "source": [
    "def myfunc(word):\n",
    "    result = []\n",
    "    index = 0\n",
    "    for letters in word:\n",
    "        if index % 2 == 0:\n",
    "            result.append(letters.upper())\n",
    "            index += 1\n",
    "        else:\n",
    "            result.append(letters)\n",
    "            index += 1\n",
    "    return result"
   ]
  },
  {
   "cell_type": "code",
   "execution_count": 40,
   "id": "ecda7181",
   "metadata": {},
   "outputs": [
    {
     "data": {
      "text/plain": [
       "['A', 'p', 'P', 'r', 'E', 'c', 'I', 'a', 'T', 'e']"
      ]
     },
     "execution_count": 40,
     "metadata": {},
     "output_type": "execute_result"
    }
   ],
   "source": [
    "myfunc('appreciate')"
   ]
  },
  {
   "cell_type": "markdown",
   "id": "b22ccb94",
   "metadata": {},
   "source": [
    "LESSER OF TWO EVENS: Write a function that returns the lesser of two given numbers if both numbers are even, but returns the greater if one or both numbers are odd\n"
   ]
  },
  {
   "cell_type": "code",
   "execution_count": 41,
   "id": "d4e8d1e9",
   "metadata": {},
   "outputs": [],
   "source": [
    "def lesser_of_two_evens(x,y):\n",
    "    if x % 2 == 0 and y % 2 == 0 : \n",
    "        return min(x,y)\n",
    "    else:\n",
    "        return max(x,y)"
   ]
  },
  {
   "cell_type": "code",
   "execution_count": 44,
   "id": "ec84eeb4",
   "metadata": {},
   "outputs": [
    {
     "data": {
      "text/plain": [
       "3465"
      ]
     },
     "execution_count": 44,
     "metadata": {},
     "output_type": "execute_result"
    }
   ],
   "source": [
    "lesser_of_two_evens(9,3465)"
   ]
  },
  {
   "cell_type": "markdown",
   "id": "6bc95d87",
   "metadata": {},
   "source": [
    "ANIMAL CRACKERS: Write a function takes a two-word string and returns True if both words begin with same letter\n",
    "animal_crackers('Levelheaded Llama') --> True\n",
    "animal_crackers('Crazy Kangaroo') --> False"
   ]
  },
  {
   "cell_type": "code",
   "execution_count": 55,
   "id": "1b94fc69",
   "metadata": {},
   "outputs": [],
   "source": [
    "def animal_crackers(text):\n",
    "    if text.split()[0][0] == text.split()[1][0]:\n",
    "        return True\n",
    "    else: \n",
    "        return False\n",
    "        "
   ]
  },
  {
   "cell_type": "code",
   "execution_count": 49,
   "id": "bd23fffa",
   "metadata": {},
   "outputs": [
    {
     "data": {
      "text/plain": [
       "True"
      ]
     },
     "execution_count": 49,
     "metadata": {},
     "output_type": "execute_result"
    }
   ],
   "source": [
    "animal_crackers('Levelheaded Llama')"
   ]
  },
  {
   "cell_type": "code",
   "execution_count": 56,
   "id": "d7741dc1",
   "metadata": {},
   "outputs": [
    {
     "data": {
      "text/plain": [
       "False"
      ]
     },
     "execution_count": 56,
     "metadata": {},
     "output_type": "execute_result"
    }
   ],
   "source": [
    "animal_crackers('Crazy Kangaroo')"
   ]
  },
  {
   "cell_type": "markdown",
   "id": "f73342c8",
   "metadata": {},
   "source": [
    "MAKES TWENTY: Given two integers, return True if the sum of the integers is 20 or if one of the integers is 20. If not, return False\n",
    "makes_twenty(20,10) --> True\n",
    "makes_twenty(12,8) --> True\n",
    "makes_twenty(2,3) --> False"
   ]
  },
  {
   "cell_type": "code",
   "execution_count": 59,
   "id": "474999c3",
   "metadata": {},
   "outputs": [],
   "source": [
    "def makes_twenty(n1,n2):\n",
    "    if sum([n1,n2]) == 20 or (n1 == 20 or n2 == 20):\n",
    "        return True\n",
    "    else:\n",
    "        return False"
   ]
  },
  {
   "cell_type": "code",
   "execution_count": 62,
   "id": "69d940c5",
   "metadata": {},
   "outputs": [
    {
     "data": {
      "text/plain": [
       "False"
      ]
     },
     "execution_count": 62,
     "metadata": {},
     "output_type": "execute_result"
    }
   ],
   "source": [
    "#makes_twenty(20,10)\n",
    "#makes_twenty(12,8)\n",
    "makes_twenty(2,3)"
   ]
  },
  {
   "cell_type": "markdown",
   "id": "57176cbb",
   "metadata": {},
   "source": [
    "OLD MACDONALD: Write a function that capitalizes the first and fourth letters of a name\n",
    "old_macdonald('macdonald') --> MacDonald"
   ]
  },
  {
   "cell_type": "code",
   "execution_count": 73,
   "id": "7d8c55aa",
   "metadata": {},
   "outputs": [],
   "source": [
    "def old_macdonald(name):\n",
    "    str_cap = []\n",
    "    index = 0\n",
    "    for letter in name : \n",
    "        if index == 0 or index == 3:\n",
    "            str_cap.append(letter.upper())\n",
    "            index = index + 1 \n",
    "        else:\n",
    "            str_cap.append(letter)\n",
    "            index = index + 1\n",
    "    return str_cap"
   ]
  },
  {
   "cell_type": "code",
   "execution_count": 74,
   "id": "c8929a4a",
   "metadata": {},
   "outputs": [
    {
     "data": {
      "text/plain": [
       "['M', 'a', 'c', 'D', 'o', 'n', 'a', 'l', 'd']"
      ]
     },
     "execution_count": 74,
     "metadata": {},
     "output_type": "execute_result"
    }
   ],
   "source": [
    "old_macdonald('macdonald')"
   ]
  },
  {
   "cell_type": "code",
   "execution_count": 81,
   "id": "bd71d40d",
   "metadata": {},
   "outputs": [],
   "source": [
    "def old_macdonald(name):\n",
    "    firstletter = name[0]\n",
    "    inbetween = name[1:3]\n",
    "    fourthletter = name[3]\n",
    "    return firstletter.upper() + inbetween + fourthletter.upper() + name[4:]"
   ]
  },
  {
   "cell_type": "code",
   "execution_count": 82,
   "id": "be0bfb7d",
   "metadata": {},
   "outputs": [
    {
     "data": {
      "text/plain": [
       "'MacDonald'"
      ]
     },
     "execution_count": 82,
     "metadata": {},
     "output_type": "execute_result"
    }
   ],
   "source": [
    "old_macdonald('macdonald')"
   ]
  },
  {
   "cell_type": "markdown",
   "id": "fb305558",
   "metadata": {},
   "source": [
    "MASTER YODA: Given a sentence, return a sentence with the words reversed\n",
    "master_yoda('I am home') --> 'home am I'\n",
    "master_yoda('We are ready') --> 'ready are We'"
   ]
  },
  {
   "cell_type": "code",
   "execution_count": 83,
   "id": "6c1ef070",
   "metadata": {},
   "outputs": [],
   "source": [
    "def master_yoda(text):\n",
    "    t_list = text.split()\n",
    "    reverse = t_list[::-1]\n",
    "    return ' '.join(reverse)"
   ]
  },
  {
   "cell_type": "code",
   "execution_count": 84,
   "id": "afa48617",
   "metadata": {},
   "outputs": [
    {
     "data": {
      "text/plain": [
       "'home am I'"
      ]
     },
     "execution_count": 84,
     "metadata": {},
     "output_type": "execute_result"
    }
   ],
   "source": [
    "master_yoda('I am home')"
   ]
  },
  {
   "cell_type": "code",
   "execution_count": 85,
   "id": "ed9d6362",
   "metadata": {},
   "outputs": [
    {
     "data": {
      "text/plain": [
       "'ready are We'"
      ]
     },
     "execution_count": 85,
     "metadata": {},
     "output_type": "execute_result"
    }
   ],
   "source": [
    "master_yoda('We are ready')"
   ]
  },
  {
   "cell_type": "markdown",
   "id": "9ad4a089",
   "metadata": {},
   "source": [
    "ALMOST THERE: Given an integer n, return True if n is within 10 of either 100 or 200\n",
    "almost_there(90) --> True\n",
    "almost_there(104) --> True\n",
    "almost_there(150) --> False\n",
    "almost_there(209) --> True\n"
   ]
  },
  {
   "cell_type": "code",
   "execution_count": 91,
   "id": "4336afdc",
   "metadata": {},
   "outputs": [],
   "source": [
    "def with_in(num):\n",
    "    if abs(num-100) < 10:\n",
    "        return True\n",
    "    elif abs(num-200) < 10:\n",
    "        return True\n",
    "    else:\n",
    "        return False\n",
    "            "
   ]
  },
  {
   "cell_type": "code",
   "execution_count": 92,
   "id": "3f2194a3",
   "metadata": {},
   "outputs": [
    {
     "data": {
      "text/plain": [
       "False"
      ]
     },
     "execution_count": 92,
     "metadata": {},
     "output_type": "execute_result"
    }
   ],
   "source": [
    "with_in(90)"
   ]
  },
  {
   "cell_type": "code",
   "execution_count": 93,
   "id": "e4d6c133",
   "metadata": {},
   "outputs": [
    {
     "data": {
      "text/plain": [
       "True"
      ]
     },
     "execution_count": 93,
     "metadata": {},
     "output_type": "execute_result"
    }
   ],
   "source": [
    "with_in(104)"
   ]
  },
  {
   "cell_type": "code",
   "execution_count": 94,
   "id": "06312dc4",
   "metadata": {},
   "outputs": [
    {
     "data": {
      "text/plain": [
       "False"
      ]
     },
     "execution_count": 94,
     "metadata": {},
     "output_type": "execute_result"
    }
   ],
   "source": [
    "with_in(150)"
   ]
  },
  {
   "cell_type": "code",
   "execution_count": 95,
   "id": "816e11e2",
   "metadata": {},
   "outputs": [
    {
     "data": {
      "text/plain": [
       "True"
      ]
     },
     "execution_count": 95,
     "metadata": {},
     "output_type": "execute_result"
    }
   ],
   "source": [
    "with_in(209)"
   ]
  },
  {
   "cell_type": "markdown",
   "id": "718bc450",
   "metadata": {},
   "source": [
    "Given a list of ints, return True if the array contains a 3 next to a 3 somewhere.\n",
    "\n",
    "has_33([1, 3, 3]) → True\n",
    "has_33([1, 3, 1, 3]) → False\n",
    "has_33([3, 1, 3]) → False"
   ]
  },
  {
   "cell_type": "code",
   "execution_count": 125,
   "id": "381e6d99",
   "metadata": {},
   "outputs": [],
   "source": [
    "def has_33(mylist):\n",
    "    i = 0\n",
    "    hold3 = []\n",
    "    c = 0\n",
    "    # identify when the 3 occurs first time and store that in variable \n",
    "    # on second iteration make sure to check that flag if it has 3 in it. \n",
    "    # in if statement overwrite if 3 is not found. \n",
    "    for item in mylist :\n",
    "        if mylist[i] == 3:\n",
    "            print(f'if 1st stmt {i}')\n",
    "            i += 1\n",
    "            if c == 0:\n",
    "                print(f'if cnt stmt {i}')\n",
    "                c += 1\n",
    "            else:\n",
    "                return True\n",
    "        else:\n",
    "            print(f'else stmt {i}')\n",
    "            c = 0\n",
    "            i += 1\n",
    "    return False"
   ]
  },
  {
   "cell_type": "code",
   "execution_count": 126,
   "id": "65d98356",
   "metadata": {},
   "outputs": [
    {
     "name": "stdout",
     "output_type": "stream",
     "text": [
      "else stmt 0\n",
      "else stmt 1\n",
      "if 1st stmt 2\n",
      "if cnt stmt 3\n",
      "else stmt 3\n",
      "else stmt 4\n"
     ]
    },
    {
     "data": {
      "text/plain": [
       "False"
      ]
     },
     "execution_count": 126,
     "metadata": {},
     "output_type": "execute_result"
    }
   ],
   "source": [
    "has_33([1, 2, 3, 0, 6])"
   ]
  },
  {
   "cell_type": "markdown",
   "id": "0f5e151a",
   "metadata": {},
   "source": [
    "PAPER DOLL: Given a string, return a string where for every character in the original there are three characters\n",
    "paper_doll('Hello') --> 'HHHeeellllllooo'\n",
    "paper_doll('Mississippi') --> 'MMMiiissssssiiippppppiii'"
   ]
  },
  {
   "cell_type": "code",
   "execution_count": 141,
   "id": "3c565770",
   "metadata": {},
   "outputs": [],
   "source": [
    "def paper_doll(mystr):\n",
    "    hold_str = []\n",
    "    for letter in mystr:\n",
    "        l3 = [letter] * 3\n",
    "        lj = ''.join(l3)\n",
    "        hold_str.append(lj)\n",
    "        print(hold_str)\n",
    "    return ''.join(hold_str)"
   ]
  },
  {
   "cell_type": "code",
   "execution_count": 142,
   "id": "19513b8f",
   "metadata": {},
   "outputs": [
    {
     "name": "stdout",
     "output_type": "stream",
     "text": [
      "['HHH']\n",
      "['HHH', 'eee']\n",
      "['HHH', 'eee', 'lll']\n",
      "['HHH', 'eee', 'lll', 'lll']\n",
      "['HHH', 'eee', 'lll', 'lll', 'ooo']\n"
     ]
    },
    {
     "data": {
      "text/plain": [
       "'HHHeeellllllooo'"
      ]
     },
     "execution_count": 142,
     "metadata": {},
     "output_type": "execute_result"
    }
   ],
   "source": [
    "paper_doll('Hello')"
   ]
  },
  {
   "cell_type": "markdown",
   "id": "2a5ebfac",
   "metadata": {},
   "source": [
    "BLACKJACK: Given three integers between 1 and 11, if their sum is less than or equal to 21, return their sum. If their sum exceeds 21 and there's an eleven, reduce the total sum by 10. Finally, if the sum (even after adjustment) exceeds 21, return 'BUST'\n",
    "blackjack(5,6,7) --> 18\n",
    "blackjack(9,9,9) --> 'BUST'\n",
    "blackjack(9,9,11) --> 19"
   ]
  },
  {
   "cell_type": "code",
   "execution_count": 153,
   "id": "c2724e43",
   "metadata": {},
   "outputs": [],
   "source": [
    "def blackjack(x,y,z):\n",
    "    agg = x + y + z\n",
    "    if agg <= 21:\n",
    "        return x + y + z\n",
    "    else:\n",
    "        if (x == 11 or y == 11 or z==11):\n",
    "            hold = x + y + z - 10\n",
    "            if hold > 21:\n",
    "                return 'BUST'\n",
    "            else:\n",
    "                return x + y + z - 10\n",
    "        else :\n",
    "            return 'BUST'"
   ]
  },
  {
   "cell_type": "code",
   "execution_count": 157,
   "id": "131fb5a7",
   "metadata": {},
   "outputs": [
    {
     "data": {
      "text/plain": [
       "21"
      ]
     },
     "execution_count": 157,
     "metadata": {},
     "output_type": "execute_result"
    }
   ],
   "source": [
    "blackjack(11,11,9)"
   ]
  },
  {
   "cell_type": "markdown",
   "id": "275443e4",
   "metadata": {},
   "source": [
    "SUMMER OF '69: Return the sum of the numbers in the array, except ignore sections of numbers starting with a 6 and extending to the next 9 (every 6 will be followed by at least one 9). Return 0 for no numbers.\n",
    "summer_69([1, 3, 5]) --> 9\n",
    "summer_69([4, 5, 6, 7, 8, 9]) --> 9\n",
    "summer_69([2, 1, 6, 9, 11]) --> 14"
   ]
  },
  {
   "cell_type": "code",
   "execution_count": null,
   "id": "6da94ffa",
   "metadata": {},
   "outputs": [],
   "source": [
    "def summer_69(mylist):\n",
    "    for item in list :\n",
    "        first_half = mylist.split(6)\n",
    "        inbetween = [mylist.index(6):mylist.index(9)]\n",
    "        print(f\"inbetween {inbetween}\")\n",
    "        last_half = mylist.split(9)\n",
    "        \n",
    "        "
   ]
  },
  {
   "cell_type": "markdown",
   "id": "2a90f413",
   "metadata": {},
   "source": [
    "SPY GAME: Write a function that takes in a list of integers and returns True if it contains 007 in order\n",
    " spy_game([1,2,4,0,0,7,5]) --> True\n",
    " spy_game([1,0,2,4,0,5,7]) --> True\n",
    " spy_game([1,7,2,0,4,5,0]) --> False"
   ]
  },
  {
   "cell_type": "code",
   "execution_count": 159,
   "id": "42d1171f",
   "metadata": {},
   "outputs": [],
   "source": [
    "def spy_game(mylist):\n",
    "    bond = []\n",
    "    for item in mylist:\n",
    "        if item == 0 or item == 7:\n",
    "            bond.append(item)\n",
    "        else:\n",
    "            pass\n",
    "    return bond == [0,0,7]"
   ]
  },
  {
   "cell_type": "code",
   "execution_count": 160,
   "id": "9f37adac",
   "metadata": {},
   "outputs": [
    {
     "data": {
      "text/plain": [
       "True"
      ]
     },
     "execution_count": 160,
     "metadata": {},
     "output_type": "execute_result"
    }
   ],
   "source": [
    "spy_game([1,2,4,0,0,7,5])"
   ]
  },
  {
   "cell_type": "code",
   "execution_count": 161,
   "id": "df15e0ac",
   "metadata": {},
   "outputs": [
    {
     "data": {
      "text/plain": [
       "True"
      ]
     },
     "execution_count": 161,
     "metadata": {},
     "output_type": "execute_result"
    }
   ],
   "source": [
    " spy_game([1,0,2,4,0,5,7])"
   ]
  },
  {
   "cell_type": "code",
   "execution_count": 162,
   "id": "40c3869c",
   "metadata": {},
   "outputs": [
    {
     "data": {
      "text/plain": [
       "False"
      ]
     },
     "execution_count": 162,
     "metadata": {},
     "output_type": "execute_result"
    }
   ],
   "source": [
    "spy_game([1,7,2,0,4,5,0])"
   ]
  },
  {
   "cell_type": "markdown",
   "id": "34f0e298",
   "metadata": {},
   "source": [
    "#### COUNT PRIMES: Write a function that returns the *number* of prime numbers that exist up to and including a given number\n",
    "    count_primes(100) --> 25\n",
    "\n",
    "By convention, 0 and 1 are not prime."
   ]
  },
  {
   "cell_type": "code",
   "execution_count": 189,
   "id": "ec501360",
   "metadata": {},
   "outputs": [],
   "source": [
    "def cnt_prime(num):\n",
    "    prime = [2]\n",
    "    x = 3\n",
    "    if num < 2 :\n",
    "        return 0\n",
    "    while x <= num:\n",
    "        print(x)\n",
    "        for y in range(3,x,2):\n",
    "            print(y)\n",
    "            if x % y == 0: \n",
    "                x += 2\n",
    "                break\n",
    "        else:\n",
    "            print(f'else {x}')\n",
    "            prime.append(x)\n",
    "            x += 2\n",
    "    print(prime)\n",
    "    return len(prime)"
   ]
  },
  {
   "cell_type": "code",
   "execution_count": 191,
   "id": "dbfc0602",
   "metadata": {},
   "outputs": [
    {
     "name": "stdout",
     "output_type": "stream",
     "text": [
      "3\n",
      "else 3\n",
      "5\n",
      "3\n",
      "else 5\n",
      "[2, 3, 5]\n"
     ]
    },
    {
     "data": {
      "text/plain": [
       "3"
      ]
     },
     "execution_count": 191,
     "metadata": {},
     "output_type": "execute_result"
    }
   ],
   "source": [
    "cnt_prime(5)"
   ]
  },
  {
   "cell_type": "code",
   "execution_count": 187,
   "id": "a6814ce9",
   "metadata": {},
   "outputs": [
    {
     "name": "stdout",
     "output_type": "stream",
     "text": [
      "3\n"
     ]
    }
   ],
   "source": [
    "for i in range(3,5,2):\n",
    "    print(i)"
   ]
  },
  {
   "cell_type": "code",
   "execution_count": 201,
   "id": "53d26411",
   "metadata": {},
   "outputs": [],
   "source": [
    "def print_big(letter):\n",
    "    patterns = {1:'  *  ',2:' * * ',3:'*   *',4:'*****',5:'**** ',6:'   * ',7:' *   ',8:'*   * ',9:'*    '}\n",
    "    alphabet = {'A':[1,2,4,3,3],'B':[5,3,5,3,5],'C':[4,9,9,9,4],'D':[5,3,3,3,5],'E':[4,9,4,9,4]}\n",
    "    for pattern in alphabet[letter.upper()]:\n",
    "        print(pattern)\n",
    "        print(patterns[pattern])"
   ]
  },
  {
   "cell_type": "code",
   "execution_count": 192,
   "id": "a7aa98b1",
   "metadata": {},
   "outputs": [
    {
     "name": "stdout",
     "output_type": "stream",
     "text": [
      "{1: '  *  '}\n"
     ]
    }
   ],
   "source": [
    "patterns = {1:'  *  '}\n",
    "print(patterns)"
   ]
  },
  {
   "cell_type": "code",
   "execution_count": 202,
   "id": "4b8ef6a4",
   "metadata": {},
   "outputs": [
    {
     "name": "stdout",
     "output_type": "stream",
     "text": [
      "5\n",
      "**** \n",
      "3\n",
      "*   *\n",
      "5\n",
      "**** \n",
      "3\n",
      "*   *\n",
      "5\n",
      "**** \n"
     ]
    }
   ],
   "source": [
    "print_big('b')"
   ]
  },
  {
   "cell_type": "code",
   "execution_count": null,
   "id": "c9857a15",
   "metadata": {},
   "outputs": [],
   "source": []
  }
 ],
 "metadata": {
  "kernelspec": {
   "display_name": "Python 3",
   "language": "python",
   "name": "python3"
  },
  "language_info": {
   "codemirror_mode": {
    "name": "ipython",
    "version": 3
   },
   "file_extension": ".py",
   "mimetype": "text/x-python",
   "name": "python",
   "nbconvert_exporter": "python",
   "pygments_lexer": "ipython3",
   "version": "3.8.8"
  }
 },
 "nbformat": 4,
 "nbformat_minor": 5
}
