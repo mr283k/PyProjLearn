{
 "cells": [
  {
   "cell_type": "code",
   "execution_count": 1,
   "id": "f8ff28b8",
   "metadata": {},
   "outputs": [],
   "source": [
    "##### need to create a slope between 2 points"
   ]
  },
  {
   "cell_type": "code",
   "execution_count": 3,
   "id": "16d6e1c1",
   "metadata": {},
   "outputs": [
    {
     "name": "stdout",
     "output_type": "stream",
     "text": [
      "5\n"
     ]
    }
   ],
   "source": [
    "a = (5,6)\n",
    "print(a[0])"
   ]
  },
  {
   "cell_type": "code",
   "execution_count": 12,
   "id": "b43e8c15",
   "metadata": {},
   "outputs": [],
   "source": [
    "class Line2:\n",
    "    \n",
    "    def __init__(self,coor1,coor2):\n",
    "        pass\n",
    "    \n",
    "    def distance(self):\n",
    "        pass\n",
    "    \n",
    "    def slope(self):\n",
    "        pass"
   ]
  },
  {
   "cell_type": "code",
   "execution_count": 13,
   "id": "bd3b2868",
   "metadata": {},
   "outputs": [],
   "source": [
    "# EXAMPLE OUTPUT\n",
    "\n",
    "coordinate1 = (3,2)\n",
    "coordinate2 = (8,10)\n",
    "\n",
    "li = Line2(coordinate1,coordinate2)"
   ]
  },
  {
   "cell_type": "code",
   "execution_count": null,
   "id": "773e75d6",
   "metadata": {},
   "outputs": [],
   "source": [
    "li.slope()"
   ]
  },
  {
   "cell_type": "code",
   "execution_count": 22,
   "id": "88d6fbd0",
   "metadata": {},
   "outputs": [],
   "source": [
    "class Line():\n",
    "    def __init__(self,pointa,pointb):\n",
    "        self.pointa = pointa\n",
    "        self.pointb = pointb\n",
    "    def slope(self):\n",
    "        # do the tuple unpacking to make it easier \n",
    "        # remember to assign the value of self.. to the other values.. \n",
    "        x1,y1 = self.pointa\n",
    "        x2,y2 = self.pointb\n",
    "        return (y2 - y1) / (x2 - x1)\n",
    "        "
   ]
  },
  {
   "cell_type": "code",
   "execution_count": 23,
   "id": "1909dd3c",
   "metadata": {},
   "outputs": [],
   "source": [
    "pointa = (3,2)\n",
    "pointb = (8,10)\n",
    "l1 = Line(pointa,pointb)"
   ]
  },
  {
   "cell_type": "code",
   "execution_count": 24,
   "id": "882e0d78",
   "metadata": {},
   "outputs": [
    {
     "data": {
      "text/plain": [
       "1.6"
      ]
     },
     "execution_count": 24,
     "metadata": {},
     "output_type": "execute_result"
    }
   ],
   "source": [
    "l1.slope()"
   ]
  },
  {
   "cell_type": "code",
   "execution_count": 6,
   "id": "bfd9e8e3",
   "metadata": {},
   "outputs": [],
   "source": [
    "# cylinder "
   ]
  },
  {
   "cell_type": "code",
   "execution_count": null,
   "id": "69b7e1f0",
   "metadata": {},
   "outputs": [],
   "source": []
  },
  {
   "cell_type": "code",
   "execution_count": 19,
   "id": "8d283271",
   "metadata": {},
   "outputs": [],
   "source": [
    "class Cylinder():\n",
    "    # define the parameters needed for the volume\n",
    "    def __init__(self,r1,h):\n",
    "        self.r1 = r1\n",
    "        self.h = h\n",
    "    def volume(self):\n",
    "        return (3.14) * r1 * r1 * h"
   ]
  },
  {
   "cell_type": "code",
   "execution_count": 20,
   "id": "f5a3903c",
   "metadata": {},
   "outputs": [],
   "source": [
    "r1 = 2 \n",
    "h = 4\n",
    "vol_jar = Cylinder(r1,h)"
   ]
  },
  {
   "cell_type": "code",
   "execution_count": 21,
   "id": "d9a557db",
   "metadata": {},
   "outputs": [
    {
     "data": {
      "text/plain": [
       "50.24"
      ]
     },
     "execution_count": 21,
     "metadata": {},
     "output_type": "execute_result"
    }
   ],
   "source": [
    "vol_jar.volume()"
   ]
  },
  {
   "cell_type": "code",
   "execution_count": null,
   "id": "6e78b3be",
   "metadata": {},
   "outputs": [],
   "source": []
  }
 ],
 "metadata": {
  "kernelspec": {
   "display_name": "Python 3",
   "language": "python",
   "name": "python3"
  },
  "language_info": {
   "codemirror_mode": {
    "name": "ipython",
    "version": 3
   },
   "file_extension": ".py",
   "mimetype": "text/x-python",
   "name": "python",
   "nbconvert_exporter": "python",
   "pygments_lexer": "ipython3",
   "version": "3.8.8"
  }
 },
 "nbformat": 4,
 "nbformat_minor": 5
}
