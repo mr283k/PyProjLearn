{
 "cells": [
  {
   "cell_type": "markdown",
   "id": "30e00df4",
   "metadata": {},
   "source": [
    "###  List Comprehensions are shorted version of for loop into a an exist datatype"
   ]
  },
  {
   "cell_type": "code",
   "execution_count": 1,
   "id": "c57893b3",
   "metadata": {},
   "outputs": [],
   "source": [
    "word = 'Hello'\n",
    "\n",
    "mylist = []\n",
    "\n",
    "for letters in word:\n",
    "    mylist.append(letters)\n"
   ]
  },
  {
   "cell_type": "code",
   "execution_count": 2,
   "id": "41f6a828",
   "metadata": {},
   "outputs": [
    {
     "data": {
      "text/plain": [
       "['H', 'e', 'l', 'l', 'o']"
      ]
     },
     "execution_count": 2,
     "metadata": {},
     "output_type": "execute_result"
    }
   ],
   "source": [
    "mylist"
   ]
  },
  {
   "cell_type": "code",
   "execution_count": 3,
   "id": "cb713a96",
   "metadata": {},
   "outputs": [],
   "source": [
    "# ove fuction can be be done like this \n",
    "word = 'HelloWorld'\n",
    "mylist = [letters for letters in word]"
   ]
  },
  {
   "cell_type": "code",
   "execution_count": 4,
   "id": "c40a52b2",
   "metadata": {},
   "outputs": [
    {
     "data": {
      "text/plain": [
       "['H', 'e', 'l', 'l', 'o', 'W', 'o', 'r', 'l', 'd']"
      ]
     },
     "execution_count": 4,
     "metadata": {},
     "output_type": "execute_result"
    }
   ],
   "source": [
    "mylist"
   ]
  },
  {
   "cell_type": "code",
   "execution_count": 5,
   "id": "55b0e9ec",
   "metadata": {},
   "outputs": [
    {
     "data": {
      "text/plain": [
       "[1, 2, 3, 4, 5, 6, 7, 8, 9, 10]"
      ]
     },
     "execution_count": 5,
     "metadata": {},
     "output_type": "execute_result"
    }
   ],
   "source": [
    "# we can do more operations in here\n",
    "mylist = [num for num in range(1,11)]\n",
    "mylist"
   ]
  },
  {
   "cell_type": "code",
   "execution_count": 6,
   "id": "110afcd2",
   "metadata": {},
   "outputs": [
    {
     "data": {
      "text/plain": [
       "[1, 4, 9, 16, 25, 36, 49, 64, 81, 100]"
      ]
     },
     "execution_count": 6,
     "metadata": {},
     "output_type": "execute_result"
    }
   ],
   "source": [
    "# we can do more operations in here\n",
    "mylist = [num**2 for num in range(1,11)]\n",
    "mylist"
   ]
  },
  {
   "cell_type": "code",
   "execution_count": 7,
   "id": "6e40ae22",
   "metadata": {},
   "outputs": [
    {
     "data": {
      "text/plain": [
       "[2, 4, 6, 8, 10]"
      ]
     },
     "execution_count": 7,
     "metadata": {},
     "output_type": "execute_result"
    }
   ],
   "source": [
    "# we can do more operations in here\n",
    "mylist = [num for num in range(1,11) if num%2 == 0]\n",
    "mylist"
   ]
  },
  {
   "cell_type": "code",
   "execution_count": 10,
   "id": "a822e7a3",
   "metadata": {},
   "outputs": [
    {
     "name": "stdout",
     "output_type": "stream",
     "text": [
      "2\n",
      "4\n",
      "6\n",
      "8\n",
      "10\n"
     ]
    }
   ],
   "source": [
    "# above is same as for loop below \n",
    "for num in range(1,11):\n",
    "    if num%2 == 0:\n",
    "      print(num)"
   ]
  },
  {
   "cell_type": "markdown",
   "id": "96a93ba5",
   "metadata": {},
   "source": [
    "### you can also write if else but it gets confusing as the order changes\n",
    "### Usually it is better to write a for loop rather than writing a simple list comprehension so u can understand good"
   ]
  },
  {
   "cell_type": "code",
   "execution_count": 15,
   "id": "052e169a",
   "metadata": {},
   "outputs": [
    {
     "data": {
      "text/plain": [
       "['odd', 2, 'odd', 4, 'odd', 6, 'odd', 8, 'odd', 10, 'odd', 12, 'odd', 14]"
      ]
     },
     "execution_count": 15,
     "metadata": {},
     "output_type": "execute_result"
    }
   ],
   "source": [
    "mylist = [x if x%2 == 0 else 'odd' for x in range(1,15)]\n",
    "mylist"
   ]
  },
  {
   "cell_type": "markdown",
   "id": "9db77498",
   "metadata": {},
   "source": [
    "###  nested Loops"
   ]
  },
  {
   "cell_type": "code",
   "execution_count": 16,
   "id": "1b2689ae",
   "metadata": {},
   "outputs": [
    {
     "data": {
      "text/plain": [
       "[1, 10, 100, 3, 30, 300, 5, 50, 500]"
      ]
     },
     "execution_count": 16,
     "metadata": {},
     "output_type": "execute_result"
    }
   ],
   "source": [
    "mylist = []\n",
    "\n",
    "for x in [1,3,5]:\n",
    "    for y in [1,10,100]:\n",
    "        mylist.append(x*y)\n",
    "\n",
    "mylist"
   ]
  },
  {
   "cell_type": "code",
   "execution_count": 17,
   "id": "cbc3a5a7",
   "metadata": {},
   "outputs": [
    {
     "data": {
      "text/plain": [
       "[1, 10, 100, 1000, 3, 30, 300, 3000, 5, 50, 500, 5000]"
      ]
     },
     "execution_count": 17,
     "metadata": {},
     "output_type": "execute_result"
    }
   ],
   "source": [
    "# list comprehesnstion for this even tho not recommended\n",
    "\n",
    "mylist = [x*y for x in [1,3,5] for y in [1,10,100,1000]]\n",
    "mylist"
   ]
  },
  {
   "cell_type": "code",
   "execution_count": null,
   "id": "f4f39346",
   "metadata": {},
   "outputs": [],
   "source": []
  }
 ],
 "metadata": {
  "kernelspec": {
   "display_name": "Python 3",
   "language": "python",
   "name": "python3"
  },
  "language_info": {
   "codemirror_mode": {
    "name": "ipython",
    "version": 3
   },
   "file_extension": ".py",
   "mimetype": "text/x-python",
   "name": "python",
   "nbconvert_exporter": "python",
   "pygments_lexer": "ipython3",
   "version": "3.8.8"
  }
 },
 "nbformat": 4,
 "nbformat_minor": 5
}
