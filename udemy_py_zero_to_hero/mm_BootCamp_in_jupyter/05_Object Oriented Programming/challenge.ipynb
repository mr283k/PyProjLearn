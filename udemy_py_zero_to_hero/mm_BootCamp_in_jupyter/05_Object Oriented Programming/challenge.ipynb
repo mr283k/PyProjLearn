{
 "cells": [
  {
   "cell_type": "code",
   "execution_count": 1,
   "id": "b31e4dbe",
   "metadata": {},
   "outputs": [],
   "source": [
    "# create account with member and balacnce, then withdraw and not overdraft"
   ]
  },
  {
   "cell_type": "code",
   "execution_count": 29,
   "id": "8e785f7d",
   "metadata": {},
   "outputs": [],
   "source": [
    "class Account():\n",
    "    # first create attribute mem U& blal\n",
    "    def __init__(self,mem,bal):\n",
    "        self.mem = mem\n",
    "        self.bal = bal\n",
    "    # create withdrawal \n",
    "    def Withdraw(self):\n",
    "        b = self.bal\n",
    "        m = self.mem\n",
    "        w = 0\n",
    "        while w < b  :\n",
    "            w = input('how much you want to withdraw : ')\n",
    "            print(f\"amount withdrew {w}\")\n",
    "            w = int(w)\n",
    "            b = b - w\n",
    "            print(f\"Hey {m} your balance amount {b}\")\n",
    "            wyn = input('withdraw y/n : ')\n",
    "            if wyn == 'y':\n",
    "                pass\n",
    "            else:\n",
    "                break\n",
    "        return print(f'over draft your balance is [b] & you withdreq {w}')"
   ]
  },
  {
   "cell_type": "code",
   "execution_count": 30,
   "id": "1e14bd01",
   "metadata": {},
   "outputs": [],
   "source": [
    "mka = Account('mk',100000000)"
   ]
  },
  {
   "cell_type": "code",
   "execution_count": 31,
   "id": "db90894c",
   "metadata": {},
   "outputs": [
    {
     "name": "stdout",
     "output_type": "stream",
     "text": [
      "how much you want to withdraw : 500\n",
      "amount withdrew 500\n",
      "Hey mk your balance amount 99999500\n",
      "withdraw y/n : y\n",
      "how much you want to withdraw : 99999999999\n",
      "amount withdrew 99999999999\n",
      "Hey mk your balance amount -99900000499\n"
     ]
    },
    {
     "ename": "KeyboardInterrupt",
     "evalue": "Interrupted by user",
     "output_type": "error",
     "traceback": [
      "\u001b[0;31m---------------------------------------------------------------------------\u001b[0m",
      "\u001b[0;31mKeyboardInterrupt\u001b[0m                         Traceback (most recent call last)",
      "\u001b[0;32m<ipython-input-31-7fbb77242f76>\u001b[0m in \u001b[0;36m<module>\u001b[0;34m\u001b[0m\n\u001b[0;32m----> 1\u001b[0;31m \u001b[0mmka\u001b[0m\u001b[0;34m.\u001b[0m\u001b[0mWithdraw\u001b[0m\u001b[0;34m(\u001b[0m\u001b[0;34m)\u001b[0m\u001b[0;34m\u001b[0m\u001b[0;34m\u001b[0m\u001b[0m\n\u001b[0m",
      "\u001b[0;32m<ipython-input-29-66ce9634e45b>\u001b[0m in \u001b[0;36mWithdraw\u001b[0;34m(self)\u001b[0m\n\u001b[1;32m     15\u001b[0m             \u001b[0mb\u001b[0m \u001b[0;34m=\u001b[0m \u001b[0mb\u001b[0m \u001b[0;34m-\u001b[0m \u001b[0mw\u001b[0m\u001b[0;34m\u001b[0m\u001b[0;34m\u001b[0m\u001b[0m\n\u001b[1;32m     16\u001b[0m             \u001b[0mprint\u001b[0m\u001b[0;34m(\u001b[0m\u001b[0;34mf\"Hey {m} your balance amount {b}\"\u001b[0m\u001b[0;34m)\u001b[0m\u001b[0;34m\u001b[0m\u001b[0;34m\u001b[0m\u001b[0m\n\u001b[0;32m---> 17\u001b[0;31m             \u001b[0mwyn\u001b[0m \u001b[0;34m=\u001b[0m \u001b[0minput\u001b[0m\u001b[0;34m(\u001b[0m\u001b[0;34m'withdraw y/n : '\u001b[0m\u001b[0;34m)\u001b[0m\u001b[0;34m\u001b[0m\u001b[0;34m\u001b[0m\u001b[0m\n\u001b[0m\u001b[1;32m     18\u001b[0m             \u001b[0;32mif\u001b[0m \u001b[0mwyn\u001b[0m \u001b[0;34m==\u001b[0m \u001b[0;34m'y'\u001b[0m\u001b[0;34m:\u001b[0m\u001b[0;34m\u001b[0m\u001b[0;34m\u001b[0m\u001b[0m\n\u001b[1;32m     19\u001b[0m                 \u001b[0;32mpass\u001b[0m\u001b[0;34m\u001b[0m\u001b[0;34m\u001b[0m\u001b[0m\n",
      "\u001b[0;32m~/opt/anaconda3/lib/python3.8/site-packages/ipykernel/kernelbase.py\u001b[0m in \u001b[0;36mraw_input\u001b[0;34m(self, prompt)\u001b[0m\n\u001b[1;32m    858\u001b[0m                 \u001b[0;34m\"raw_input was called, but this frontend does not support input requests.\"\u001b[0m\u001b[0;34m\u001b[0m\u001b[0;34m\u001b[0m\u001b[0m\n\u001b[1;32m    859\u001b[0m             )\n\u001b[0;32m--> 860\u001b[0;31m         return self._input_request(str(prompt),\n\u001b[0m\u001b[1;32m    861\u001b[0m             \u001b[0mself\u001b[0m\u001b[0;34m.\u001b[0m\u001b[0m_parent_ident\u001b[0m\u001b[0;34m,\u001b[0m\u001b[0;34m\u001b[0m\u001b[0;34m\u001b[0m\u001b[0m\n\u001b[1;32m    862\u001b[0m             \u001b[0mself\u001b[0m\u001b[0;34m.\u001b[0m\u001b[0m_parent_header\u001b[0m\u001b[0;34m,\u001b[0m\u001b[0;34m\u001b[0m\u001b[0;34m\u001b[0m\u001b[0m\n",
      "\u001b[0;32m~/opt/anaconda3/lib/python3.8/site-packages/ipykernel/kernelbase.py\u001b[0m in \u001b[0;36m_input_request\u001b[0;34m(self, prompt, ident, parent, password)\u001b[0m\n\u001b[1;32m    902\u001b[0m             \u001b[0;32mexcept\u001b[0m \u001b[0mKeyboardInterrupt\u001b[0m\u001b[0;34m:\u001b[0m\u001b[0;34m\u001b[0m\u001b[0;34m\u001b[0m\u001b[0m\n\u001b[1;32m    903\u001b[0m                 \u001b[0;31m# re-raise KeyboardInterrupt, to truncate traceback\u001b[0m\u001b[0;34m\u001b[0m\u001b[0;34m\u001b[0m\u001b[0;34m\u001b[0m\u001b[0m\n\u001b[0;32m--> 904\u001b[0;31m                 \u001b[0;32mraise\u001b[0m \u001b[0mKeyboardInterrupt\u001b[0m\u001b[0;34m(\u001b[0m\u001b[0;34m\"Interrupted by user\"\u001b[0m\u001b[0;34m)\u001b[0m \u001b[0;32mfrom\u001b[0m \u001b[0;32mNone\u001b[0m\u001b[0;34m\u001b[0m\u001b[0;34m\u001b[0m\u001b[0m\n\u001b[0m\u001b[1;32m    905\u001b[0m             \u001b[0;32mexcept\u001b[0m \u001b[0mException\u001b[0m \u001b[0;32mas\u001b[0m \u001b[0me\u001b[0m\u001b[0;34m:\u001b[0m\u001b[0;34m\u001b[0m\u001b[0;34m\u001b[0m\u001b[0m\n\u001b[1;32m    906\u001b[0m                 \u001b[0mself\u001b[0m\u001b[0;34m.\u001b[0m\u001b[0mlog\u001b[0m\u001b[0;34m.\u001b[0m\u001b[0mwarning\u001b[0m\u001b[0;34m(\u001b[0m\u001b[0;34m\"Invalid Message:\"\u001b[0m\u001b[0;34m,\u001b[0m \u001b[0mexc_info\u001b[0m\u001b[0;34m=\u001b[0m\u001b[0;32mTrue\u001b[0m\u001b[0;34m)\u001b[0m\u001b[0;34m\u001b[0m\u001b[0;34m\u001b[0m\u001b[0m\n",
      "\u001b[0;31mKeyboardInterrupt\u001b[0m: Interrupted by user"
     ]
    }
   ],
   "source": [
    "mka.Withdraw()"
   ]
  },
  {
   "cell_type": "code",
   "execution_count": 45,
   "id": "603e6f30",
   "metadata": {},
   "outputs": [],
   "source": [
    "class Account():\n",
    "    def __init__(self,owner,bal):\n",
    "        self.owner = owner\n",
    "        self.bal = bal\n",
    "    def __str__(self):\n",
    "        return 'Account owner ' + self.owner\n",
    "    def __int__(self):\n",
    "        return self.bal\n",
    "    def deposit(self,d):\n",
    "        if d > 0 :\n",
    "            self.bal = self.bal + d\n",
    "            print(f\"deposit accepted ${d}\")\n",
    "            print(f\"balance is ${self.bal}\")\n",
    "#             return print(f\"deposit accepted ${d}\")\n",
    "        else: \n",
    "            return print(f\"deposit failed\")\n",
    "    def withdraw(self,w):\n",
    "        if w > 0 and w < self.bal:\n",
    "            self.bal = self.bal - w\n",
    "            print(f\"withdraw accepted ${w}\")\n",
    "            print(f\"balance is ${self.bal}\")\n",
    "#             return print(f\"withdraw accepted ${w}\")\n",
    "        else: \n",
    "            return print(f\"withdraw failed or exceeded\")\n",
    "    \n",
    "#     def acc_detail():\n",
    "#         return 'Account owner ' + self.owner"
   ]
  },
  {
   "cell_type": "code",
   "execution_count": 46,
   "id": "5dff0fc1",
   "metadata": {},
   "outputs": [],
   "source": [
    "acct = Account('jose',100)"
   ]
  },
  {
   "cell_type": "code",
   "execution_count": 16,
   "id": "c20b50d9",
   "metadata": {},
   "outputs": [
    {
     "name": "stdout",
     "output_type": "stream",
     "text": [
      "Account owner jose\n"
     ]
    }
   ],
   "source": [
    "print(acct)"
   ]
  },
  {
   "cell_type": "code",
   "execution_count": 17,
   "id": "2b2bff6d",
   "metadata": {},
   "outputs": [
    {
     "data": {
      "text/plain": [
       "'jose'"
      ]
     },
     "execution_count": 17,
     "metadata": {},
     "output_type": "execute_result"
    }
   ],
   "source": [
    "acct.owner"
   ]
  },
  {
   "cell_type": "code",
   "execution_count": 18,
   "id": "9d1ca99d",
   "metadata": {},
   "outputs": [
    {
     "data": {
      "text/plain": [
       "100"
      ]
     },
     "execution_count": 18,
     "metadata": {},
     "output_type": "execute_result"
    }
   ],
   "source": [
    "acct.bal"
   ]
  },
  {
   "cell_type": "code",
   "execution_count": 48,
   "id": "53d88d14",
   "metadata": {},
   "outputs": [
    {
     "name": "stdout",
     "output_type": "stream",
     "text": [
      "deposit accepted $50\n",
      "balance is $175\n"
     ]
    }
   ],
   "source": [
    "acct.deposit(50)"
   ]
  },
  {
   "cell_type": "code",
   "execution_count": 50,
   "id": "e36dd11d",
   "metadata": {},
   "outputs": [
    {
     "name": "stdout",
     "output_type": "stream",
     "text": [
      "withdraw accepted $50\n",
      "balance is $100\n"
     ]
    }
   ],
   "source": [
    "acct.withdraw(50)"
   ]
  },
  {
   "cell_type": "code",
   "execution_count": null,
   "id": "d01c9174",
   "metadata": {},
   "outputs": [],
   "source": []
  }
 ],
 "metadata": {
  "kernelspec": {
   "display_name": "Python 3",
   "language": "python",
   "name": "python3"
  },
  "language_info": {
   "codemirror_mode": {
    "name": "ipython",
    "version": 3
   },
   "file_extension": ".py",
   "mimetype": "text/x-python",
   "name": "python",
   "nbconvert_exporter": "python",
   "pygments_lexer": "ipython3",
   "version": "3.8.8"
  }
 },
 "nbformat": 4,
 "nbformat_minor": 5
}
