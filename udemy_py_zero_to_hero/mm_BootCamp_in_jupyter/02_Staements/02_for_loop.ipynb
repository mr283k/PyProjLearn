{
 "cells": [
  {
   "cell_type": "code",
   "execution_count": 1,
   "id": "9bedc26b",
   "metadata": {},
   "outputs": [],
   "source": [
    "my_list = [1,2,3,4,5,6,7,8,9]"
   ]
  },
  {
   "cell_type": "markdown",
   "id": "4ecd9bfa",
   "metadata": {},
   "source": [
    "##  remember that items in itemslist is a NONE type\n",
    "##  below code do not returen anything\n",
    "for a in [1,2,4]:\n",
    "    x = type(a)\n",
    "    x"
   ]
  },
  {
   "cell_type": "code",
   "execution_count": 3,
   "id": "b6da52e9",
   "metadata": {
    "scrolled": true
   },
   "outputs": [
    {
     "name": "stdout",
     "output_type": "stream",
     "text": [
      "1\n",
      "2\n",
      "3\n",
      "4\n",
      "5\n",
      "6\n",
      "7\n",
      "8\n",
      "9\n"
     ]
    }
   ],
   "source": [
    "for num in my_list:\n",
    "    print(num)\n",
    "   type(num)"
   ]
  },
  {
   "cell_type": "code",
   "execution_count": 3,
   "id": "fb1f9bcc",
   "metadata": {},
   "outputs": [
    {
     "name": "stdout",
     "output_type": "stream",
     "text": [
      "hello\n",
      "hello\n",
      "hello\n",
      "hello\n",
      "hello\n",
      "hello\n",
      "hello\n",
      "hello\n",
      "hello\n"
     ]
    }
   ],
   "source": [
    "for num in my_list:\n",
    "    print('hello')"
   ]
  },
  {
   "cell_type": "code",
   "execution_count": 10,
   "id": "1a1f9d6d",
   "metadata": {},
   "outputs": [
    {
     "name": "stdout",
     "output_type": "stream",
     "text": [
      "odd 1\n",
      "even 2\n",
      "odd 3\n",
      "even 4\n",
      "odd 5\n",
      "even 6\n",
      "odd 7\n",
      "even 8\n",
      "odd 9\n"
     ]
    }
   ],
   "source": [
    "\n",
    "for num in my_list:\n",
    "    # check for the condition\n",
    "    if  num % 2 == 0:\n",
    "        print('even {}'.format(num))\n",
    "    else:\n",
    "        print('odd {}'.format(num))"
   ]
  },
  {
   "cell_type": "code",
   "execution_count": 13,
   "id": "b182022a",
   "metadata": {},
   "outputs": [
    {
     "name": "stdout",
     "output_type": "stream",
     "text": [
      "45\n"
     ]
    }
   ],
   "source": [
    "sum_num = 0\n",
    "for num in my_list:\n",
    "    sum_num = sum_num + num\n",
    "print(sum_num)"
   ]
  },
  {
   "cell_type": "code",
   "execution_count": 16,
   "id": "60b0821f",
   "metadata": {},
   "outputs": [
    {
     "name": "stdout",
     "output_type": "stream",
     "text": [
      "1\n",
      "2\n",
      "3\n",
      "4\n",
      "5\n",
      "6\n"
     ]
    }
   ],
   "source": [
    "# tupile unpacking \n",
    "# where you can see that a,b is used as var to unpacking\n",
    "\n",
    "mylist = [(1,2),(3,4),(5,6)]\n",
    "\n",
    "for (a,b) in mylist:\n",
    "    print(a)\n",
    "    print(b)"
   ]
  },
  {
   "cell_type": "code",
   "execution_count": 18,
   "id": "c071b429",
   "metadata": {},
   "outputs": [
    {
     "name": "stdout",
     "output_type": "stream",
     "text": [
      "k1\n",
      "k2\n",
      "k3\n"
     ]
    }
   ],
   "source": [
    "# iterating through dicrionary\n",
    "# dic only iterate keys\n",
    "\n",
    "mylist = {'k1':1,'k2':2,'k3':3}\n",
    "\n",
    "for items in mylist:\n",
    "    print(items)"
   ]
  },
  {
   "cell_type": "code",
   "execution_count": 20,
   "id": "bc95cc64",
   "metadata": {},
   "outputs": [
    {
     "name": "stdout",
     "output_type": "stream",
     "text": [
      "('k1', 1)\n",
      "('k2', 2)\n",
      "('k3', 3)\n"
     ]
    }
   ],
   "source": [
    "# if you want both the key value pair\n",
    "\n",
    "for items in mylist.items():\n",
    "    print(items)"
   ]
  },
  {
   "cell_type": "code",
   "execution_count": 22,
   "id": "2c037e20",
   "metadata": {},
   "outputs": [
    {
     "name": "stdout",
     "output_type": "stream",
     "text": [
      "k1 - 1\n",
      "k2 - 2\n",
      "k3 - 3\n"
     ]
    }
   ],
   "source": [
    "# if you want both the key value pair\n",
    "\n",
    "for a,b in mylist.items():\n",
    "    print('{} - {}'.format(a,b))"
   ]
  },
  {
   "cell_type": "code",
   "execution_count": null,
   "id": "79104c46",
   "metadata": {},
   "outputs": [],
   "source": []
  }
 ],
 "metadata": {
  "kernelspec": {
   "display_name": "Python 3",
   "language": "python",
   "name": "python3"
  },
  "language_info": {
   "codemirror_mode": {
    "name": "ipython",
    "version": 3
   },
   "file_extension": ".py",
   "mimetype": "text/x-python",
   "name": "python",
   "nbconvert_exporter": "python",
   "pygments_lexer": "ipython3",
   "version": "3.8.8"
  }
 },
 "nbformat": 4,
 "nbformat_minor": 5
}
