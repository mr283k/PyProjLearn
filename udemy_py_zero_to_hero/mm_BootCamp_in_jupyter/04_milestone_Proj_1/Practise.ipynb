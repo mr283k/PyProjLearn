{
 "cells": [
  {
   "cell_type": "markdown",
   "id": "5eb81977",
   "metadata": {},
   "source": [
    "Accepting User Input\n",
    "Creating function that takes in an input from user and returns the result in the correct data type. Be careful when using the input() function, running that cell twice without providing an input value will cause python to get hung up waiting for the initial value on the first run. You will notice an In[*] next to the cell if it gets stuck, in which case, simply restart the kernel and re-run any necessary cells."
   ]
  },
  {
   "cell_type": "code",
   "execution_count": 4,
   "id": "5cc4dc54",
   "metadata": {},
   "outputs": [],
   "source": [
    "def user_input():\n",
    "    x = input('enter number : ')\n",
    "    return int(x)"
   ]
  },
  {
   "cell_type": "code",
   "execution_count": 7,
   "id": "2d2a7dd1",
   "metadata": {},
   "outputs": [
    {
     "name": "stdout",
     "output_type": "stream",
     "text": [
      "enter number : d\n"
     ]
    },
    {
     "ename": "ValueError",
     "evalue": "invalid literal for int() with base 10: 'd'",
     "output_type": "error",
     "traceback": [
      "\u001b[0;31m---------------------------------------------------------------------------\u001b[0m",
      "\u001b[0;31mValueError\u001b[0m                                Traceback (most recent call last)",
      "\u001b[0;32m<ipython-input-7-85aa0689a55f>\u001b[0m in \u001b[0;36m<module>\u001b[0;34m\u001b[0m\n\u001b[0;32m----> 1\u001b[0;31m \u001b[0muser_input\u001b[0m\u001b[0;34m(\u001b[0m\u001b[0;34m)\u001b[0m\u001b[0;34m\u001b[0m\u001b[0;34m\u001b[0m\u001b[0m\n\u001b[0m",
      "\u001b[0;32m<ipython-input-4-8f365aef59d2>\u001b[0m in \u001b[0;36muser_input\u001b[0;34m()\u001b[0m\n\u001b[1;32m      1\u001b[0m \u001b[0;32mdef\u001b[0m \u001b[0muser_input\u001b[0m\u001b[0;34m(\u001b[0m\u001b[0;34m)\u001b[0m\u001b[0;34m:\u001b[0m\u001b[0;34m\u001b[0m\u001b[0;34m\u001b[0m\u001b[0m\n\u001b[1;32m      2\u001b[0m     \u001b[0mx\u001b[0m \u001b[0;34m=\u001b[0m \u001b[0minput\u001b[0m\u001b[0;34m(\u001b[0m\u001b[0;34m'enter number : '\u001b[0m\u001b[0;34m)\u001b[0m\u001b[0;34m\u001b[0m\u001b[0;34m\u001b[0m\u001b[0m\n\u001b[0;32m----> 3\u001b[0;31m     \u001b[0;32mreturn\u001b[0m \u001b[0mint\u001b[0m\u001b[0;34m(\u001b[0m\u001b[0mx\u001b[0m\u001b[0;34m)\u001b[0m\u001b[0;34m\u001b[0m\u001b[0;34m\u001b[0m\u001b[0m\n\u001b[0m",
      "\u001b[0;31mValueError\u001b[0m: invalid literal for int() with base 10: 'd'"
     ]
    }
   ],
   "source": [
    "user_input()"
   ]
  },
  {
   "cell_type": "code",
   "execution_count": 48,
   "id": "c569f90e",
   "metadata": {},
   "outputs": [],
   "source": [
    "from IPython.display import clear_output\n",
    "clear_output()"
   ]
  },
  {
   "cell_type": "code",
   "execution_count": 49,
   "id": "17adb8f2",
   "metadata": {},
   "outputs": [],
   "source": [
    "def user_input():\n",
    "    # assign not an integer some wrong value \n",
    "    y = 'wrong'\n",
    "    # check until the choice is an integer so that it will break out of while \n",
    "    # this check is happening for the false now\n",
    "    while y.isdigit() == False:\n",
    "        # Then ask user to enter the input value \n",
    "        # also you need to rewrite the initial value with use entered value so that we can keep on checking \n",
    "        # until it is right \n",
    "        y = input('enter a number : ')\n",
    "        \n",
    "        \n",
    "        # checking for the error on what user entered \n",
    "        if y.isdigit() == False:\n",
    "            clear_output()\n",
    "            print(\"Sorry, but you did not enter an integer. Please try again.\")\n",
    "    return int(y)"
   ]
  },
  {
   "cell_type": "code",
   "execution_count": 50,
   "id": "abc639a0",
   "metadata": {},
   "outputs": [
    {
     "name": "stdout",
     "output_type": "stream",
     "text": [
      "Sorry, but you did not enter an integer. Please try again.\n",
      "enter a number : 8\n"
     ]
    },
    {
     "data": {
      "text/plain": [
       "8"
      ]
     },
     "execution_count": 50,
     "metadata": {},
     "output_type": "execute_result"
    }
   ],
   "source": [
    "user_input()"
   ]
  },
  {
   "cell_type": "code",
   "execution_count": 32,
   "id": "6e274880",
   "metadata": {},
   "outputs": [],
   "source": [
    "result = 'wrong value'\n",
    "acceptable_values = ['0','1','2']"
   ]
  },
  {
   "cell_type": "code",
   "execution_count": 38,
   "id": "6b9aa5b0",
   "metadata": {},
   "outputs": [
    {
     "data": {
      "text/plain": [
       "False"
      ]
     },
     "execution_count": 38,
     "metadata": {},
     "output_type": "execute_result"
    }
   ],
   "source": [
    "result in acceptable_values"
   ]
  },
  {
   "cell_type": "code",
   "execution_count": 57,
   "id": "88ec55ef",
   "metadata": {},
   "outputs": [],
   "source": [
    "# checking for multiple value s\n",
    "def user_input(y):\n",
    "    # assign not an integer some wrong value \n",
    "    y = 'wrong'\n",
    "    # check until the choice is an integer so that it will break out of while \n",
    "    # this check is happening for the false now\n",
    "    while y not in ['1','2','3']:\n",
    "        # Then ask user to enter the input value \n",
    "        # also you need to rewrite the initial value with use entered value so that we can keep on checking \n",
    "        # until it is right \n",
    "        y = input('enter a number in [1,2,3]: ')\n",
    "        \n",
    "        \n",
    "        # checking for the error on what user entered \n",
    "        if y not in ['1','2','3']:\n",
    "            clear_output()\n",
    "            print(\"Sorry, but you did not enter right integer. Please try again.\")\n",
    "    return int(y)"
   ]
  },
  {
   "cell_type": "markdown",
   "id": "d31e21ca",
   "metadata": {},
   "source": [
    "user_input()"
   ]
  },
  {
   "cell_type": "code",
   "execution_count": 59,
   "id": "4ea80441",
   "metadata": {},
   "outputs": [
    {
     "name": "stdout",
     "output_type": "stream",
     "text": [
      "Sorry, but you did not enter right integer. Please try again.\n",
      "enter a number in [1,2,3]: 3\n"
     ]
    },
    {
     "data": {
      "text/plain": [
       "3"
      ]
     },
     "execution_count": 59,
     "metadata": {},
     "output_type": "execute_result"
    }
   ],
   "source": [
    "user_input(5)"
   ]
  },
  {
   "cell_type": "code",
   "execution_count": 78,
   "id": "7b4a5193",
   "metadata": {},
   "outputs": [],
   "source": [
    "def user_choice():\n",
    "    \n",
    "    choice ='WRONG'\n",
    "    within_range = False\n",
    "    \n",
    "    while choice.isdigit() == False or within_range == False:\n",
    "        \n",
    "    \n",
    "    \n",
    "        choice = input(\"Please enter a number (0-10): \")\n",
    "        \n",
    "        if choice.isdigit() == False:\n",
    "            print(\"Sorry that is not a digit!\")\n",
    "            \n",
    "        if choice.isdigit() == True:\n",
    "            if int(choice) in range(0,10):\n",
    "                within_range = True\n",
    "            else:\n",
    "                within_range = False\n",
    "    \n",
    "    return int(choice)"
   ]
  },
  {
   "cell_type": "code",
   "execution_count": 87,
   "id": "6107b184",
   "metadata": {},
   "outputs": [],
   "source": [
    "# find if the number is integer and with in range 1 - 10 form user \n",
    "def user_choice():\n",
    "    choice = 'wrong'\n",
    "    choice_inrange = False\n",
    "    # allow while to go in \n",
    "    while choice.isdigit() == False and choice_inrange == False:\n",
    "        choice = input('please enter the num in 1 - 10 : ')\n",
    "        \n",
    "        # verify the input is digit \n",
    "        if choice.isdigit() == False:\n",
    "            clear_output()\n",
    "            print('sorry you entered incorrect value')\n",
    "#         if choice.isdigit() == True:\n",
    "#             if int(choice) in range(0,10):\n",
    "#                 within_range = True\n",
    "#             else:\n",
    "#                 within_range = False\n",
    "        else:\n",
    "            if int(choice) not in range(0,10):\n",
    "                choice_inrange = False\n",
    "                choice = 'wrong'\n",
    "                print('entered number is not in range')\n",
    "            else:\n",
    "                choice_inrange = True\n",
    "    return int(choice)\n",
    "        \n",
    "        "
   ]
  },
  {
   "cell_type": "code",
   "execution_count": 88,
   "id": "2299096f",
   "metadata": {},
   "outputs": [
    {
     "name": "stdout",
     "output_type": "stream",
     "text": [
      "please enter the num in 1 - 10 : 88\n",
      "entered number is not in range\n"
     ]
    },
    {
     "ename": "KeyboardInterrupt",
     "evalue": "Interrupted by user",
     "output_type": "error",
     "traceback": [
      "\u001b[0;31m---------------------------------------------------------------------------\u001b[0m",
      "\u001b[0;31mKeyboardInterrupt\u001b[0m                         Traceback (most recent call last)",
      "\u001b[0;32m<ipython-input-88-ef2a079da9a9>\u001b[0m in \u001b[0;36m<module>\u001b[0;34m\u001b[0m\n\u001b[0;32m----> 1\u001b[0;31m \u001b[0muser_choice\u001b[0m\u001b[0;34m(\u001b[0m\u001b[0;34m)\u001b[0m\u001b[0;34m\u001b[0m\u001b[0;34m\u001b[0m\u001b[0m\n\u001b[0m",
      "\u001b[0;32m<ipython-input-87-6c5f62d57f1b>\u001b[0m in \u001b[0;36muser_choice\u001b[0;34m()\u001b[0m\n\u001b[1;32m      5\u001b[0m     \u001b[0;31m# allow while to go in\u001b[0m\u001b[0;34m\u001b[0m\u001b[0;34m\u001b[0m\u001b[0;34m\u001b[0m\u001b[0m\n\u001b[1;32m      6\u001b[0m     \u001b[0;32mwhile\u001b[0m \u001b[0mchoice\u001b[0m\u001b[0;34m.\u001b[0m\u001b[0misdigit\u001b[0m\u001b[0;34m(\u001b[0m\u001b[0;34m)\u001b[0m \u001b[0;34m==\u001b[0m \u001b[0;32mFalse\u001b[0m \u001b[0;32mand\u001b[0m \u001b[0mchoice_inrange\u001b[0m \u001b[0;34m==\u001b[0m \u001b[0;32mFalse\u001b[0m\u001b[0;34m:\u001b[0m\u001b[0;34m\u001b[0m\u001b[0;34m\u001b[0m\u001b[0m\n\u001b[0;32m----> 7\u001b[0;31m         \u001b[0mchoice\u001b[0m \u001b[0;34m=\u001b[0m \u001b[0minput\u001b[0m\u001b[0;34m(\u001b[0m\u001b[0;34m'please enter the num in 1 - 10 : '\u001b[0m\u001b[0;34m)\u001b[0m\u001b[0;34m\u001b[0m\u001b[0;34m\u001b[0m\u001b[0m\n\u001b[0m\u001b[1;32m      8\u001b[0m \u001b[0;34m\u001b[0m\u001b[0m\n\u001b[1;32m      9\u001b[0m         \u001b[0;31m# verify the input is digit\u001b[0m\u001b[0;34m\u001b[0m\u001b[0;34m\u001b[0m\u001b[0;34m\u001b[0m\u001b[0m\n",
      "\u001b[0;32m~/opt/anaconda3/lib/python3.8/site-packages/ipykernel/kernelbase.py\u001b[0m in \u001b[0;36mraw_input\u001b[0;34m(self, prompt)\u001b[0m\n\u001b[1;32m    858\u001b[0m                 \u001b[0;34m\"raw_input was called, but this frontend does not support input requests.\"\u001b[0m\u001b[0;34m\u001b[0m\u001b[0;34m\u001b[0m\u001b[0m\n\u001b[1;32m    859\u001b[0m             )\n\u001b[0;32m--> 860\u001b[0;31m         return self._input_request(str(prompt),\n\u001b[0m\u001b[1;32m    861\u001b[0m             \u001b[0mself\u001b[0m\u001b[0;34m.\u001b[0m\u001b[0m_parent_ident\u001b[0m\u001b[0;34m,\u001b[0m\u001b[0;34m\u001b[0m\u001b[0;34m\u001b[0m\u001b[0m\n\u001b[1;32m    862\u001b[0m             \u001b[0mself\u001b[0m\u001b[0;34m.\u001b[0m\u001b[0m_parent_header\u001b[0m\u001b[0;34m,\u001b[0m\u001b[0;34m\u001b[0m\u001b[0;34m\u001b[0m\u001b[0m\n",
      "\u001b[0;32m~/opt/anaconda3/lib/python3.8/site-packages/ipykernel/kernelbase.py\u001b[0m in \u001b[0;36m_input_request\u001b[0;34m(self, prompt, ident, parent, password)\u001b[0m\n\u001b[1;32m    902\u001b[0m             \u001b[0;32mexcept\u001b[0m \u001b[0mKeyboardInterrupt\u001b[0m\u001b[0;34m:\u001b[0m\u001b[0;34m\u001b[0m\u001b[0;34m\u001b[0m\u001b[0m\n\u001b[1;32m    903\u001b[0m                 \u001b[0;31m# re-raise KeyboardInterrupt, to truncate traceback\u001b[0m\u001b[0;34m\u001b[0m\u001b[0;34m\u001b[0m\u001b[0;34m\u001b[0m\u001b[0m\n\u001b[0;32m--> 904\u001b[0;31m                 \u001b[0;32mraise\u001b[0m \u001b[0mKeyboardInterrupt\u001b[0m\u001b[0;34m(\u001b[0m\u001b[0;34m\"Interrupted by user\"\u001b[0m\u001b[0;34m)\u001b[0m \u001b[0;32mfrom\u001b[0m \u001b[0;32mNone\u001b[0m\u001b[0;34m\u001b[0m\u001b[0;34m\u001b[0m\u001b[0m\n\u001b[0m\u001b[1;32m    905\u001b[0m             \u001b[0;32mexcept\u001b[0m \u001b[0mException\u001b[0m \u001b[0;32mas\u001b[0m \u001b[0me\u001b[0m\u001b[0;34m:\u001b[0m\u001b[0;34m\u001b[0m\u001b[0;34m\u001b[0m\u001b[0m\n\u001b[1;32m    906\u001b[0m                 \u001b[0mself\u001b[0m\u001b[0;34m.\u001b[0m\u001b[0mlog\u001b[0m\u001b[0;34m.\u001b[0m\u001b[0mwarning\u001b[0m\u001b[0;34m(\u001b[0m\u001b[0;34m\"Invalid Message:\"\u001b[0m\u001b[0;34m,\u001b[0m \u001b[0mexc_info\u001b[0m\u001b[0;34m=\u001b[0m\u001b[0;32mTrue\u001b[0m\u001b[0;34m)\u001b[0m\u001b[0;34m\u001b[0m\u001b[0;34m\u001b[0m\u001b[0m\n",
      "\u001b[0;31mKeyboardInterrupt\u001b[0m: Interrupted by user"
     ]
    }
   ],
   "source": [
    "user_choice()"
   ]
  },
  {
   "cell_type": "code",
   "execution_count": null,
   "id": "3878c2e0",
   "metadata": {},
   "outputs": [],
   "source": [
    "# display the list \n",
    "# have user choose the poisiton to update the list \n",
    "# Updating the list it self inthe positon user chose \n",
    "# identify if user want to palay the game ornot "
   ]
  },
  {
   "cell_type": "code",
   "execution_count": 95,
   "id": "ddee39a9",
   "metadata": {},
   "outputs": [],
   "source": [
    "# 1 :\n",
    "def display_list(game_list):\n",
    "    print('display current game list')\n",
    "    return game_list"
   ]
  },
  {
   "cell_type": "code",
   "execution_count": 96,
   "id": "3b4f421a",
   "metadata": {},
   "outputs": [
    {
     "name": "stdout",
     "output_type": "stream",
     "text": [
      "display current game list\n"
     ]
    },
    {
     "data": {
      "text/plain": [
       "[0, 1, 2]"
      ]
     },
     "execution_count": 96,
     "metadata": {},
     "output_type": "execute_result"
    }
   ],
   "source": [
    "game_list = [0,1,2]\n",
    "display_list(game_list)"
   ]
  },
  {
   "cell_type": "code",
   "execution_count": 112,
   "id": "52b565c3",
   "metadata": {},
   "outputs": [],
   "source": [
    "def user_choice():\n",
    "    choice = 'wrong'\n",
    "    in_range = False\n",
    "    while choice.isdigit() == False and in_range == False:\n",
    "        choice = input('Enter the number from 0 - 2 :')\n",
    "        if choice.isdigit() == False:\n",
    "            print('enter number not integer')\n",
    "        else:\n",
    "            if int(choice) in range(0,3):\n",
    "                in_range = True\n",
    "            else:\n",
    "                print('enter number not in range')\n",
    "                in_range = False\n",
    "                choice = 'wrong'\n",
    "\n",
    "    return int(choice)            "
   ]
  },
  {
   "cell_type": "code",
   "execution_count": 113,
   "id": "cfa9767d",
   "metadata": {},
   "outputs": [
    {
     "name": "stdout",
     "output_type": "stream",
     "text": [
      "Enter the number from 0 - 2 :2\n"
     ]
    },
    {
     "data": {
      "text/plain": [
       "2"
      ]
     },
     "execution_count": 113,
     "metadata": {},
     "output_type": "execute_result"
    }
   ],
   "source": [
    "user_choice()"
   ]
  },
  {
   "cell_type": "code",
   "execution_count": 126,
   "id": "86d750cc",
   "metadata": {},
   "outputs": [],
   "source": [
    "def replacement_choice(game_list,position):\n",
    "    user_input = input('type a string to place in positon value: ')\n",
    "    game_list[position] = user_input\n",
    "    return game_list"
   ]
  },
  {
   "cell_type": "code",
   "execution_count": 127,
   "id": "75ad618e",
   "metadata": {},
   "outputs": [
    {
     "name": "stdout",
     "output_type": "stream",
     "text": [
      "type a string to place in positon value: hi\n"
     ]
    },
    {
     "data": {
      "text/plain": [
       "[0, 'hi', 2]"
      ]
     },
     "execution_count": 127,
     "metadata": {},
     "output_type": "execute_result"
    }
   ],
   "source": [
    "replacement_choice(game_list,1)"
   ]
  },
  {
   "cell_type": "code",
   "execution_count": 128,
   "id": "d0e12eb2",
   "metadata": {},
   "outputs": [],
   "source": [
    "# game choice : \n",
    "\n",
    "def gameon_choice():\n",
    "    play = 'wrong'\n",
    "    while play not in ['y','n']:\n",
    "        play =  input('Do you want to play Y or N: ')\n",
    "        if play not in ['y','n']:\n",
    "            print('wrong choice')\n",
    "    if play == 'y':\n",
    "        return True\n",
    "    else:\n",
    "        return False"
   ]
  },
  {
   "cell_type": "code",
   "execution_count": 130,
   "id": "f0d6c857",
   "metadata": {},
   "outputs": [
    {
     "name": "stdout",
     "output_type": "stream",
     "text": [
      "Do you want to play Y or N: n\n"
     ]
    },
    {
     "data": {
      "text/plain": [
       "False"
      ]
     },
     "execution_count": 130,
     "metadata": {},
     "output_type": "execute_result"
    }
   ],
   "source": [
    "gameon_choice()"
   ]
  },
  {
   "cell_type": "code",
   "execution_count": 150,
   "id": "15219020",
   "metadata": {},
   "outputs": [],
   "source": [
    "# all together :\n",
    "def play_game():\n",
    "    game_list = [1,2,3]\n",
    "    gameon = True\n",
    "    while gameon:\n",
    "        clear_output()\n",
    "        display_list(game_list)\n",
    "        gameon = False\n",
    "        \n",
    "        #have user choosse the input \n",
    "        position = user_choice()\n",
    "        \n",
    "        # have the replacement func call and do repla\n",
    "        game_list = replacement_choice(game_list,position)\n",
    "        \n",
    "        clear_output()\n",
    "        x = display_list(game_list)\n",
    "        print(x)\n",
    "        \n",
    "        # ask if you want to keep playing\n",
    "        gameon = gameon_choice()\n",
    "    return print('end game')"
   ]
  },
  {
   "cell_type": "code",
   "execution_count": 151,
   "id": "1d33a077",
   "metadata": {},
   "outputs": [
    {
     "name": "stdout",
     "output_type": "stream",
     "text": [
      "display current game list\n",
      "[1, 'he', 'se']\n",
      "Do you want to play Y or N: n\n",
      "end game\n"
     ]
    }
   ],
   "source": [
    "play_game()"
   ]
  },
  {
   "cell_type": "code",
   "execution_count": 1,
   "id": "991de499",
   "metadata": {},
   "outputs": [],
   "source": [
    "def player_input():\n",
    "    marker = ''\n",
    "\n",
    "    while not(marker == 'X' or marker == 'O'):\n",
    "        marker = input('Player 1: Do you want to be X or O? ').upper()\n",
    "\n",
    "    print('check 1')\n",
    "    if marker == 'X':\n",
    "        print('check 2')\n",
    "        return ('X', 'O')\n",
    "    else:\n",
    "        return ('O', 'X')\n"
   ]
  },
  {
   "cell_type": "code",
   "execution_count": 2,
   "id": "e116fd01",
   "metadata": {},
   "outputs": [
    {
     "name": "stdout",
     "output_type": "stream",
     "text": [
      "Player 1: Do you want to be X or O? x\n",
      "check 1\n",
      "check 2\n"
     ]
    },
    {
     "data": {
      "text/plain": [
       "('X', 'O')"
      ]
     },
     "execution_count": 2,
     "metadata": {},
     "output_type": "execute_result"
    }
   ],
   "source": [
    "player_input()"
   ]
  },
  {
   "cell_type": "code",
   "execution_count": null,
   "id": "6097a402",
   "metadata": {},
   "outputs": [],
   "source": []
  }
 ],
 "metadata": {
  "kernelspec": {
   "display_name": "Python 3",
   "language": "python",
   "name": "python3"
  },
  "language_info": {
   "codemirror_mode": {
    "name": "ipython",
    "version": 3
   },
   "file_extension": ".py",
   "mimetype": "text/x-python",
   "name": "python",
   "nbconvert_exporter": "python",
   "pygments_lexer": "ipython3",
   "version": "3.8.8"
  }
 },
 "nbformat": 4,
 "nbformat_minor": 5
}
