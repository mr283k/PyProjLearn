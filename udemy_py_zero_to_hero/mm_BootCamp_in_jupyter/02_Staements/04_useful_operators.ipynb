{
 "cells": [
  {
   "cell_type": "code",
   "execution_count": 1,
   "id": "53fbe688",
   "metadata": {},
   "outputs": [
    {
     "name": "stdout",
     "output_type": "stream",
     "text": [
      "0\n",
      "1\n",
      "2\n",
      "3\n",
      "4\n",
      "5\n",
      "6\n",
      "7\n",
      "8\n",
      "9\n"
     ]
    }
   ],
   "source": [
    "# to create range of num\n",
    "for num in range(10):\n",
    "    print(num)"
   ]
  },
  {
   "cell_type": "code",
   "execution_count": 3,
   "id": "2b422da2",
   "metadata": {},
   "outputs": [
    {
     "name": "stdout",
     "output_type": "stream",
     "text": [
      "1\n",
      "3\n",
      "5\n",
      "7\n",
      "9\n"
     ]
    }
   ],
   "source": [
    "# to create range of num\n",
    "for num in range(1,10,2):\n",
    "    print(num)"
   ]
  },
  {
   "cell_type": "code",
   "execution_count": 4,
   "id": "44381ca9",
   "metadata": {},
   "outputs": [
    {
     "data": {
      "text/plain": [
       "range(1, 10)"
      ]
     },
     "execution_count": 4,
     "metadata": {},
     "output_type": "execute_result"
    }
   ],
   "source": [
    "range(1,10)"
   ]
  },
  {
   "cell_type": "code",
   "execution_count": 8,
   "id": "bdf981b5",
   "metadata": {},
   "outputs": [
    {
     "data": {
      "text/plain": [
       "[1, 2, 3, 4, 5, 6, 7, 8, 9]"
      ]
     },
     "execution_count": 8,
     "metadata": {},
     "output_type": "execute_result"
    }
   ],
   "source": [
    "mylist=list(range(1,10))\n",
    "mylist"
   ]
  },
  {
   "cell_type": "code",
   "execution_count": 9,
   "id": "52b557a1",
   "metadata": {},
   "outputs": [
    {
     "data": {
      "text/plain": [
       "(1, 2, 3, 4, 5, 6, 7, 8, 9)"
      ]
     },
     "execution_count": 9,
     "metadata": {},
     "output_type": "execute_result"
    }
   ],
   "source": [
    "mylist=tuple(range(1,10))\n",
    "mylist"
   ]
  },
  {
   "cell_type": "code",
   "execution_count": 10,
   "id": "b81ce356",
   "metadata": {},
   "outputs": [
    {
     "data": {
      "text/plain": [
       "{1, 2, 3, 4, 5, 6, 7, 8, 9}"
      ]
     },
     "execution_count": 10,
     "metadata": {},
     "output_type": "execute_result"
    }
   ],
   "source": [
    "mylist=set(range(1,10))\n",
    "mylist"
   ]
  },
  {
   "cell_type": "code",
   "execution_count": 17,
   "id": "0f77360b",
   "metadata": {},
   "outputs": [
    {
     "name": "stdout",
     "output_type": "stream",
     "text": [
      "a\n",
      "b\n",
      "c\n",
      "d\n",
      "e\n"
     ]
    }
   ],
   "source": [
    "# enumerate function \n",
    "\n",
    "# usally to iterate through something \n",
    "\n",
    "index_count = 0\n",
    "word = 'abcde'\n",
    "\n",
    "for letter in word:\n",
    "    print(word[index_count])\n",
    "    index_count += 1"
   ]
  },
  {
   "cell_type": "code",
   "execution_count": 18,
   "id": "fd42c29c",
   "metadata": {},
   "outputs": [
    {
     "name": "stdout",
     "output_type": "stream",
     "text": [
      "(0, 'l')\n",
      "(1, 'e')\n",
      "(2, 't')\n",
      "(3, 't')\n",
      "(4, 'e')\n",
      "(5, 'r')\n"
     ]
    }
   ],
   "source": [
    "# since above function is very common py created fuction called ennumerate\n",
    "word = 'letter'\n",
    "\n",
    "for item in enumerate(word):\n",
    "    print(item)"
   ]
  },
  {
   "cell_type": "code",
   "execution_count": 19,
   "id": "c0c775e1",
   "metadata": {},
   "outputs": [
    {
     "name": "stdout",
     "output_type": "stream",
     "text": [
      "0\n",
      "a\n",
      "1\n",
      "b\n",
      "2\n",
      "c\n",
      "3\n",
      "d\n",
      "4\n",
      "e\n",
      "5\n",
      "f\n"
     ]
    }
   ],
   "source": [
    "# since enumerate fuctjions gives items in tuples then we can do unpacking\n",
    "word = 'abcdef'\n",
    "\n",
    "for index_cnt, letter in enumerate(word):\n",
    "    print(index_cnt)\n",
    "    print(letter)"
   ]
  },
  {
   "cell_type": "code",
   "execution_count": 23,
   "id": "d55aac10",
   "metadata": {},
   "outputs": [
    {
     "data": {
      "text/plain": [
       "[(1, 'a'), (2, 'b'), (3, 'c')]"
      ]
     },
     "execution_count": 23,
     "metadata": {},
     "output_type": "execute_result"
    }
   ],
   "source": [
    "# zip fucrion\n",
    "\n",
    "list1 = [1,2,3]\n",
    "list2 = ['a','b','c']\n",
    "x = zip(list1,list2)\n",
    "# in this case zip will wait for it to be printed , zip is done in memorey but not printed\n",
    "list(x)"
   ]
  },
  {
   "cell_type": "code",
   "execution_count": 24,
   "id": "8fc0bda4",
   "metadata": {},
   "outputs": [
    {
     "name": "stdout",
     "output_type": "stream",
     "text": [
      "1\n",
      "a\n",
      "2\n",
      "b\n",
      "3\n",
      "c\n"
     ]
    }
   ],
   "source": [
    "for num, alp in zip(list1,list2):\n",
    "    print(num)\n",
    "    print(alp)"
   ]
  },
  {
   "cell_type": "code",
   "execution_count": 25,
   "id": "8fbd0e77",
   "metadata": {},
   "outputs": [
    {
     "data": {
      "text/plain": [
       "False"
      ]
     },
     "execution_count": 25,
     "metadata": {},
     "output_type": "execute_result"
    }
   ],
   "source": [
    "# in fuction will check if the pattern that u are looking for exist in the datatype\n",
    "\n",
    "'a' in ['1','2','3']"
   ]
  },
  {
   "cell_type": "code",
   "execution_count": 26,
   "id": "44711480",
   "metadata": {},
   "outputs": [
    {
     "data": {
      "text/plain": [
       "True"
      ]
     },
     "execution_count": 26,
     "metadata": {},
     "output_type": "execute_result"
    }
   ],
   "source": [
    "'a' in ['a','b']"
   ]
  },
  {
   "cell_type": "code",
   "execution_count": 27,
   "id": "e5ddef76",
   "metadata": {},
   "outputs": [
    {
     "data": {
      "text/plain": [
       "True"
      ]
     },
     "execution_count": 27,
     "metadata": {},
     "output_type": "execute_result"
    }
   ],
   "source": [
    "'key1' in {'key1':'apple','key2':'orange'}"
   ]
  },
  {
   "cell_type": "code",
   "execution_count": 28,
   "id": "4e6faa37",
   "metadata": {},
   "outputs": [
    {
     "data": {
      "text/plain": [
       "True"
      ]
     },
     "execution_count": 28,
     "metadata": {},
     "output_type": "execute_result"
    }
   ],
   "source": [
    "d = {'key1':'apple','key2':'orange'}\n",
    "'orange' in d.values()"
   ]
  },
  {
   "cell_type": "code",
   "execution_count": 29,
   "id": "e64ae95d",
   "metadata": {},
   "outputs": [
    {
     "data": {
      "text/plain": [
       "1"
      ]
     },
     "execution_count": 29,
     "metadata": {},
     "output_type": "execute_result"
    }
   ],
   "source": [
    "# you can use any inplace fuctions operated on the datatypes\n",
    "mylist = [1,2,3,4,5,6]\n",
    "min(mylist)"
   ]
  },
  {
   "cell_type": "code",
   "execution_count": 30,
   "id": "33ab8619",
   "metadata": {},
   "outputs": [
    {
     "data": {
      "text/plain": [
       "6"
      ]
     },
     "execution_count": 30,
     "metadata": {},
     "output_type": "execute_result"
    }
   ],
   "source": [
    "max(mylist)"
   ]
  },
  {
   "cell_type": "code",
   "execution_count": 35,
   "id": "c24ba9e9",
   "metadata": {},
   "outputs": [],
   "source": [
    "#. to import a library use the following\n",
    "from random import shuffle\n",
    "shuffle(mylist)\n"
   ]
  },
  {
   "cell_type": "code",
   "execution_count": 36,
   "id": "0719d0b8",
   "metadata": {},
   "outputs": [
    {
     "data": {
      "text/plain": [
       "[1, 3, 2, 5, 6, 4]"
      ]
     },
     "execution_count": 36,
     "metadata": {},
     "output_type": "execute_result"
    }
   ],
   "source": [
    "mylist"
   ]
  },
  {
   "cell_type": "markdown",
   "id": "6bb50104",
   "metadata": {},
   "source": [
    "\n",
    "### since it is an inplace function means works on the given list no output is returned"
   ]
  },
  {
   "cell_type": "code",
   "execution_count": 39,
   "id": "3d6b1900",
   "metadata": {},
   "outputs": [
    {
     "data": {
      "text/plain": [
       "NoneType"
      ]
     },
     "execution_count": 39,
     "metadata": {},
     "output_type": "execute_result"
    }
   ],
   "source": [
    "x = shuffle(mylist)\n",
    "type(x)"
   ]
  },
  {
   "cell_type": "code",
   "execution_count": 41,
   "id": "07c9551f",
   "metadata": {},
   "outputs": [
    {
     "name": "stdout",
     "output_type": "stream",
     "text": [
      "enter you name :jose\n"
     ]
    },
    {
     "data": {
      "text/plain": [
       "'jose'"
      ]
     },
     "execution_count": 41,
     "metadata": {},
     "output_type": "execute_result"
    }
   ],
   "source": [
    "# input you cna enter a user input\n",
    "x = input('enter you name :')\n",
    "x"
   ]
  },
  {
   "cell_type": "markdown",
   "id": "8b8619a0",
   "metadata": {},
   "source": [
    "###  INput alwys return a 'str' so you cna use int() or foat() to cast it "
   ]
  },
  {
   "cell_type": "code",
   "execution_count": null,
   "id": "1f2b292a",
   "metadata": {},
   "outputs": [],
   "source": []
  }
 ],
 "metadata": {
  "kernelspec": {
   "display_name": "Python 3",
   "language": "python",
   "name": "python3"
  },
  "language_info": {
   "codemirror_mode": {
    "name": "ipython",
    "version": 3
   },
   "file_extension": ".py",
   "mimetype": "text/x-python",
   "name": "python",
   "nbconvert_exporter": "python",
   "pygments_lexer": "ipython3",
   "version": "3.8.8"
  }
 },
 "nbformat": 4,
 "nbformat_minor": 5
}
